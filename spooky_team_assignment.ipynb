{
  "nbformat": 4,
  "nbformat_minor": 0,
  "metadata": {
    "colab": {
      "provenance": []
    },
    "kernelspec": {
      "name": "python3",
      "display_name": "Python 3"
    },
    "language_info": {
      "name": "python"
    }
  },
  "cells": [
    {
      "cell_type": "code",
      "source": [
        "!pip install pyspark\n"
      ],
      "metadata": {
        "colab": {
          "base_uri": "https://localhost:8080/"
        },
        "id": "n_nndWBfEzA_",
        "outputId": "dafb890f-a8ec-43c1-965c-bd6191597164"
      },
      "execution_count": 6,
      "outputs": [
        {
          "output_type": "stream",
          "name": "stdout",
          "text": [
            "Requirement already satisfied: pyspark in /usr/local/lib/python3.10/dist-packages (3.5.3)\n",
            "Requirement already satisfied: py4j==0.10.9.7 in /usr/local/lib/python3.10/dist-packages (from pyspark) (0.10.9.7)\n"
          ]
        }
      ]
    },
    {
      "cell_type": "code",
      "source": [
        "from google.colab import files\n",
        "uploaded = files.upload()  # Select the kaggle.json file from your computer\n"
      ],
      "metadata": {
        "colab": {
          "base_uri": "https://localhost:8080/",
          "height": 73
        },
        "id": "AW_AwOETOtu4",
        "outputId": "a7e995bc-92ac-4bae-9923-18ae43ddd037"
      },
      "execution_count": 28,
      "outputs": [
        {
          "output_type": "display_data",
          "data": {
            "text/plain": [
              "<IPython.core.display.HTML object>"
            ],
            "text/html": [
              "\n",
              "     <input type=\"file\" id=\"files-bbde95cd-45ff-4f28-bf11-03d03eb6a3ce\" name=\"files[]\" multiple disabled\n",
              "        style=\"border:none\" />\n",
              "     <output id=\"result-bbde95cd-45ff-4f28-bf11-03d03eb6a3ce\">\n",
              "      Upload widget is only available when the cell has been executed in the\n",
              "      current browser session. Please rerun this cell to enable.\n",
              "      </output>\n",
              "      <script>// Copyright 2017 Google LLC\n",
              "//\n",
              "// Licensed under the Apache License, Version 2.0 (the \"License\");\n",
              "// you may not use this file except in compliance with the License.\n",
              "// You may obtain a copy of the License at\n",
              "//\n",
              "//      http://www.apache.org/licenses/LICENSE-2.0\n",
              "//\n",
              "// Unless required by applicable law or agreed to in writing, software\n",
              "// distributed under the License is distributed on an \"AS IS\" BASIS,\n",
              "// WITHOUT WARRANTIES OR CONDITIONS OF ANY KIND, either express or implied.\n",
              "// See the License for the specific language governing permissions and\n",
              "// limitations under the License.\n",
              "\n",
              "/**\n",
              " * @fileoverview Helpers for google.colab Python module.\n",
              " */\n",
              "(function(scope) {\n",
              "function span(text, styleAttributes = {}) {\n",
              "  const element = document.createElement('span');\n",
              "  element.textContent = text;\n",
              "  for (const key of Object.keys(styleAttributes)) {\n",
              "    element.style[key] = styleAttributes[key];\n",
              "  }\n",
              "  return element;\n",
              "}\n",
              "\n",
              "// Max number of bytes which will be uploaded at a time.\n",
              "const MAX_PAYLOAD_SIZE = 100 * 1024;\n",
              "\n",
              "function _uploadFiles(inputId, outputId) {\n",
              "  const steps = uploadFilesStep(inputId, outputId);\n",
              "  const outputElement = document.getElementById(outputId);\n",
              "  // Cache steps on the outputElement to make it available for the next call\n",
              "  // to uploadFilesContinue from Python.\n",
              "  outputElement.steps = steps;\n",
              "\n",
              "  return _uploadFilesContinue(outputId);\n",
              "}\n",
              "\n",
              "// This is roughly an async generator (not supported in the browser yet),\n",
              "// where there are multiple asynchronous steps and the Python side is going\n",
              "// to poll for completion of each step.\n",
              "// This uses a Promise to block the python side on completion of each step,\n",
              "// then passes the result of the previous step as the input to the next step.\n",
              "function _uploadFilesContinue(outputId) {\n",
              "  const outputElement = document.getElementById(outputId);\n",
              "  const steps = outputElement.steps;\n",
              "\n",
              "  const next = steps.next(outputElement.lastPromiseValue);\n",
              "  return Promise.resolve(next.value.promise).then((value) => {\n",
              "    // Cache the last promise value to make it available to the next\n",
              "    // step of the generator.\n",
              "    outputElement.lastPromiseValue = value;\n",
              "    return next.value.response;\n",
              "  });\n",
              "}\n",
              "\n",
              "/**\n",
              " * Generator function which is called between each async step of the upload\n",
              " * process.\n",
              " * @param {string} inputId Element ID of the input file picker element.\n",
              " * @param {string} outputId Element ID of the output display.\n",
              " * @return {!Iterable<!Object>} Iterable of next steps.\n",
              " */\n",
              "function* uploadFilesStep(inputId, outputId) {\n",
              "  const inputElement = document.getElementById(inputId);\n",
              "  inputElement.disabled = false;\n",
              "\n",
              "  const outputElement = document.getElementById(outputId);\n",
              "  outputElement.innerHTML = '';\n",
              "\n",
              "  const pickedPromise = new Promise((resolve) => {\n",
              "    inputElement.addEventListener('change', (e) => {\n",
              "      resolve(e.target.files);\n",
              "    });\n",
              "  });\n",
              "\n",
              "  const cancel = document.createElement('button');\n",
              "  inputElement.parentElement.appendChild(cancel);\n",
              "  cancel.textContent = 'Cancel upload';\n",
              "  const cancelPromise = new Promise((resolve) => {\n",
              "    cancel.onclick = () => {\n",
              "      resolve(null);\n",
              "    };\n",
              "  });\n",
              "\n",
              "  // Wait for the user to pick the files.\n",
              "  const files = yield {\n",
              "    promise: Promise.race([pickedPromise, cancelPromise]),\n",
              "    response: {\n",
              "      action: 'starting',\n",
              "    }\n",
              "  };\n",
              "\n",
              "  cancel.remove();\n",
              "\n",
              "  // Disable the input element since further picks are not allowed.\n",
              "  inputElement.disabled = true;\n",
              "\n",
              "  if (!files) {\n",
              "    return {\n",
              "      response: {\n",
              "        action: 'complete',\n",
              "      }\n",
              "    };\n",
              "  }\n",
              "\n",
              "  for (const file of files) {\n",
              "    const li = document.createElement('li');\n",
              "    li.append(span(file.name, {fontWeight: 'bold'}));\n",
              "    li.append(span(\n",
              "        `(${file.type || 'n/a'}) - ${file.size} bytes, ` +\n",
              "        `last modified: ${\n",
              "            file.lastModifiedDate ? file.lastModifiedDate.toLocaleDateString() :\n",
              "                                    'n/a'} - `));\n",
              "    const percent = span('0% done');\n",
              "    li.appendChild(percent);\n",
              "\n",
              "    outputElement.appendChild(li);\n",
              "\n",
              "    const fileDataPromise = new Promise((resolve) => {\n",
              "      const reader = new FileReader();\n",
              "      reader.onload = (e) => {\n",
              "        resolve(e.target.result);\n",
              "      };\n",
              "      reader.readAsArrayBuffer(file);\n",
              "    });\n",
              "    // Wait for the data to be ready.\n",
              "    let fileData = yield {\n",
              "      promise: fileDataPromise,\n",
              "      response: {\n",
              "        action: 'continue',\n",
              "      }\n",
              "    };\n",
              "\n",
              "    // Use a chunked sending to avoid message size limits. See b/62115660.\n",
              "    let position = 0;\n",
              "    do {\n",
              "      const length = Math.min(fileData.byteLength - position, MAX_PAYLOAD_SIZE);\n",
              "      const chunk = new Uint8Array(fileData, position, length);\n",
              "      position += length;\n",
              "\n",
              "      const base64 = btoa(String.fromCharCode.apply(null, chunk));\n",
              "      yield {\n",
              "        response: {\n",
              "          action: 'append',\n",
              "          file: file.name,\n",
              "          data: base64,\n",
              "        },\n",
              "      };\n",
              "\n",
              "      let percentDone = fileData.byteLength === 0 ?\n",
              "          100 :\n",
              "          Math.round((position / fileData.byteLength) * 100);\n",
              "      percent.textContent = `${percentDone}% done`;\n",
              "\n",
              "    } while (position < fileData.byteLength);\n",
              "  }\n",
              "\n",
              "  // All done.\n",
              "  yield {\n",
              "    response: {\n",
              "      action: 'complete',\n",
              "    }\n",
              "  };\n",
              "}\n",
              "\n",
              "scope.google = scope.google || {};\n",
              "scope.google.colab = scope.google.colab || {};\n",
              "scope.google.colab._files = {\n",
              "  _uploadFiles,\n",
              "  _uploadFilesContinue,\n",
              "};\n",
              "})(self);\n",
              "</script> "
            ]
          },
          "metadata": {}
        },
        {
          "output_type": "stream",
          "name": "stdout",
          "text": [
            "Saving kaggle.json to kaggle.json\n"
          ]
        }
      ]
    },
    {
      "cell_type": "code",
      "source": [
        "import os\n",
        "os.environ['KAGGLE_CONFIG_DIR'] = \"/content/\"\n"
      ],
      "metadata": {
        "id": "qIHcX7mVOyUL"
      },
      "execution_count": 29,
      "outputs": []
    },
    {
      "cell_type": "code",
      "source": [
        "!pip install kaggle\n",
        "!kaggle competitions download -c spooky-author-identification\n"
      ],
      "metadata": {
        "colab": {
          "base_uri": "https://localhost:8080/"
        },
        "id": "g_XTMChNPAvY",
        "outputId": "60b438e5-c5de-45bb-9498-b518beb324fb"
      },
      "execution_count": 30,
      "outputs": [
        {
          "output_type": "stream",
          "name": "stdout",
          "text": [
            "Requirement already satisfied: kaggle in /usr/local/lib/python3.10/dist-packages (1.6.17)\n",
            "Requirement already satisfied: six>=1.10 in /usr/local/lib/python3.10/dist-packages (from kaggle) (1.16.0)\n",
            "Requirement already satisfied: certifi>=2023.7.22 in /usr/local/lib/python3.10/dist-packages (from kaggle) (2024.8.30)\n",
            "Requirement already satisfied: python-dateutil in /usr/local/lib/python3.10/dist-packages (from kaggle) (2.8.2)\n",
            "Requirement already satisfied: requests in /usr/local/lib/python3.10/dist-packages (from kaggle) (2.32.3)\n",
            "Requirement already satisfied: tqdm in /usr/local/lib/python3.10/dist-packages (from kaggle) (4.66.5)\n",
            "Requirement already satisfied: python-slugify in /usr/local/lib/python3.10/dist-packages (from kaggle) (8.0.4)\n",
            "Requirement already satisfied: urllib3 in /usr/local/lib/python3.10/dist-packages (from kaggle) (2.2.3)\n",
            "Requirement already satisfied: bleach in /usr/local/lib/python3.10/dist-packages (from kaggle) (6.1.0)\n",
            "Requirement already satisfied: webencodings in /usr/local/lib/python3.10/dist-packages (from bleach->kaggle) (0.5.1)\n",
            "Requirement already satisfied: text-unidecode>=1.3 in /usr/local/lib/python3.10/dist-packages (from python-slugify->kaggle) (1.3)\n",
            "Requirement already satisfied: charset-normalizer<4,>=2 in /usr/local/lib/python3.10/dist-packages (from requests->kaggle) (3.4.0)\n",
            "Requirement already satisfied: idna<4,>=2.5 in /usr/local/lib/python3.10/dist-packages (from requests->kaggle) (3.10)\n",
            "Warning: Your Kaggle API key is readable by other users on this system! To fix this, you can run 'chmod 600 /content/kaggle.json'\n",
            "Downloading spooky-author-identification.zip to /content\n",
            "  0% 0.00/1.81M [00:00<?, ?B/s]\n",
            "100% 1.81M/1.81M [00:00<00:00, 54.6MB/s]\n"
          ]
        }
      ]
    },
    {
      "cell_type": "code",
      "source": [
        "import zipfile\n",
        "\n",
        "with zipfile.ZipFile('spooky-author-identification.zip', 'r') as zip_ref:\n",
        "    zip_ref.extractall('Datasets')\n"
      ],
      "metadata": {
        "id": "Ku8rtNCfPO-A"
      },
      "execution_count": 32,
      "outputs": []
    },
    {
      "cell_type": "code",
      "source": [
        "# Step 1: Import necessary libraries\n",
        "from google.colab import files\n",
        "import os\n",
        "import shutil\n",
        "\n",
        "# Step 2: Upload files\n",
        "uploaded = files.upload()  # Choose train.csv and test.csv when prompted\n",
        "\n",
        "# Step 3: Create a folder named 'Datasets'\n",
        "os.makedirs('Datasets', exist_ok=True)  # This creates the folder if it doesn't exist\n",
        "\n",
        "# Step 4: Move the uploaded files to the 'Datasets' folder\n",
        "for filename in uploaded.keys():\n",
        "    shutil.move(filename, f'Datasets/{filename}')  # Move each uploaded file to the Datasets folder\n",
        "\n",
        "# Step 5: Check that the files are now in the 'Datasets' folder\n",
        "print(\"Files moved to 'Datasets' folder:\")\n",
        "print(os.listdir('Datasets'))  # List the files in the Datasets folder\n"
      ],
      "metadata": {
        "colab": {
          "base_uri": "https://localhost:8080/",
          "height": 109
        },
        "id": "MFCuMSZ9P-7U",
        "outputId": "e90ddd04-2be8-43dd-9383-e6f451fa1f95"
      },
      "execution_count": 34,
      "outputs": [
        {
          "output_type": "display_data",
          "data": {
            "text/plain": [
              "<IPython.core.display.HTML object>"
            ],
            "text/html": [
              "\n",
              "     <input type=\"file\" id=\"files-927026c2-dfdd-4016-be4b-8abf175f5d89\" name=\"files[]\" multiple disabled\n",
              "        style=\"border:none\" />\n",
              "     <output id=\"result-927026c2-dfdd-4016-be4b-8abf175f5d89\">\n",
              "      Upload widget is only available when the cell has been executed in the\n",
              "      current browser session. Please rerun this cell to enable.\n",
              "      </output>\n",
              "      <script>// Copyright 2017 Google LLC\n",
              "//\n",
              "// Licensed under the Apache License, Version 2.0 (the \"License\");\n",
              "// you may not use this file except in compliance with the License.\n",
              "// You may obtain a copy of the License at\n",
              "//\n",
              "//      http://www.apache.org/licenses/LICENSE-2.0\n",
              "//\n",
              "// Unless required by applicable law or agreed to in writing, software\n",
              "// distributed under the License is distributed on an \"AS IS\" BASIS,\n",
              "// WITHOUT WARRANTIES OR CONDITIONS OF ANY KIND, either express or implied.\n",
              "// See the License for the specific language governing permissions and\n",
              "// limitations under the License.\n",
              "\n",
              "/**\n",
              " * @fileoverview Helpers for google.colab Python module.\n",
              " */\n",
              "(function(scope) {\n",
              "function span(text, styleAttributes = {}) {\n",
              "  const element = document.createElement('span');\n",
              "  element.textContent = text;\n",
              "  for (const key of Object.keys(styleAttributes)) {\n",
              "    element.style[key] = styleAttributes[key];\n",
              "  }\n",
              "  return element;\n",
              "}\n",
              "\n",
              "// Max number of bytes which will be uploaded at a time.\n",
              "const MAX_PAYLOAD_SIZE = 100 * 1024;\n",
              "\n",
              "function _uploadFiles(inputId, outputId) {\n",
              "  const steps = uploadFilesStep(inputId, outputId);\n",
              "  const outputElement = document.getElementById(outputId);\n",
              "  // Cache steps on the outputElement to make it available for the next call\n",
              "  // to uploadFilesContinue from Python.\n",
              "  outputElement.steps = steps;\n",
              "\n",
              "  return _uploadFilesContinue(outputId);\n",
              "}\n",
              "\n",
              "// This is roughly an async generator (not supported in the browser yet),\n",
              "// where there are multiple asynchronous steps and the Python side is going\n",
              "// to poll for completion of each step.\n",
              "// This uses a Promise to block the python side on completion of each step,\n",
              "// then passes the result of the previous step as the input to the next step.\n",
              "function _uploadFilesContinue(outputId) {\n",
              "  const outputElement = document.getElementById(outputId);\n",
              "  const steps = outputElement.steps;\n",
              "\n",
              "  const next = steps.next(outputElement.lastPromiseValue);\n",
              "  return Promise.resolve(next.value.promise).then((value) => {\n",
              "    // Cache the last promise value to make it available to the next\n",
              "    // step of the generator.\n",
              "    outputElement.lastPromiseValue = value;\n",
              "    return next.value.response;\n",
              "  });\n",
              "}\n",
              "\n",
              "/**\n",
              " * Generator function which is called between each async step of the upload\n",
              " * process.\n",
              " * @param {string} inputId Element ID of the input file picker element.\n",
              " * @param {string} outputId Element ID of the output display.\n",
              " * @return {!Iterable<!Object>} Iterable of next steps.\n",
              " */\n",
              "function* uploadFilesStep(inputId, outputId) {\n",
              "  const inputElement = document.getElementById(inputId);\n",
              "  inputElement.disabled = false;\n",
              "\n",
              "  const outputElement = document.getElementById(outputId);\n",
              "  outputElement.innerHTML = '';\n",
              "\n",
              "  const pickedPromise = new Promise((resolve) => {\n",
              "    inputElement.addEventListener('change', (e) => {\n",
              "      resolve(e.target.files);\n",
              "    });\n",
              "  });\n",
              "\n",
              "  const cancel = document.createElement('button');\n",
              "  inputElement.parentElement.appendChild(cancel);\n",
              "  cancel.textContent = 'Cancel upload';\n",
              "  const cancelPromise = new Promise((resolve) => {\n",
              "    cancel.onclick = () => {\n",
              "      resolve(null);\n",
              "    };\n",
              "  });\n",
              "\n",
              "  // Wait for the user to pick the files.\n",
              "  const files = yield {\n",
              "    promise: Promise.race([pickedPromise, cancelPromise]),\n",
              "    response: {\n",
              "      action: 'starting',\n",
              "    }\n",
              "  };\n",
              "\n",
              "  cancel.remove();\n",
              "\n",
              "  // Disable the input element since further picks are not allowed.\n",
              "  inputElement.disabled = true;\n",
              "\n",
              "  if (!files) {\n",
              "    return {\n",
              "      response: {\n",
              "        action: 'complete',\n",
              "      }\n",
              "    };\n",
              "  }\n",
              "\n",
              "  for (const file of files) {\n",
              "    const li = document.createElement('li');\n",
              "    li.append(span(file.name, {fontWeight: 'bold'}));\n",
              "    li.append(span(\n",
              "        `(${file.type || 'n/a'}) - ${file.size} bytes, ` +\n",
              "        `last modified: ${\n",
              "            file.lastModifiedDate ? file.lastModifiedDate.toLocaleDateString() :\n",
              "                                    'n/a'} - `));\n",
              "    const percent = span('0% done');\n",
              "    li.appendChild(percent);\n",
              "\n",
              "    outputElement.appendChild(li);\n",
              "\n",
              "    const fileDataPromise = new Promise((resolve) => {\n",
              "      const reader = new FileReader();\n",
              "      reader.onload = (e) => {\n",
              "        resolve(e.target.result);\n",
              "      };\n",
              "      reader.readAsArrayBuffer(file);\n",
              "    });\n",
              "    // Wait for the data to be ready.\n",
              "    let fileData = yield {\n",
              "      promise: fileDataPromise,\n",
              "      response: {\n",
              "        action: 'continue',\n",
              "      }\n",
              "    };\n",
              "\n",
              "    // Use a chunked sending to avoid message size limits. See b/62115660.\n",
              "    let position = 0;\n",
              "    do {\n",
              "      const length = Math.min(fileData.byteLength - position, MAX_PAYLOAD_SIZE);\n",
              "      const chunk = new Uint8Array(fileData, position, length);\n",
              "      position += length;\n",
              "\n",
              "      const base64 = btoa(String.fromCharCode.apply(null, chunk));\n",
              "      yield {\n",
              "        response: {\n",
              "          action: 'append',\n",
              "          file: file.name,\n",
              "          data: base64,\n",
              "        },\n",
              "      };\n",
              "\n",
              "      let percentDone = fileData.byteLength === 0 ?\n",
              "          100 :\n",
              "          Math.round((position / fileData.byteLength) * 100);\n",
              "      percent.textContent = `${percentDone}% done`;\n",
              "\n",
              "    } while (position < fileData.byteLength);\n",
              "  }\n",
              "\n",
              "  // All done.\n",
              "  yield {\n",
              "    response: {\n",
              "      action: 'complete',\n",
              "    }\n",
              "  };\n",
              "}\n",
              "\n",
              "scope.google = scope.google || {};\n",
              "scope.google.colab = scope.google.colab || {};\n",
              "scope.google.colab._files = {\n",
              "  _uploadFiles,\n",
              "  _uploadFilesContinue,\n",
              "};\n",
              "})(self);\n",
              "</script> "
            ]
          },
          "metadata": {}
        },
        {
          "output_type": "stream",
          "name": "stdout",
          "text": [
            "Saving test.zip to test (2).zip\n",
            "Files moved to 'Datasets' folder:\n",
            "['sample_submission.csv', 'test.zip', 'train.zip', 'test (2).zip', 'sample_submission.zip']\n"
          ]
        }
      ]
    },
    {
      "cell_type": "code",
      "source": [
        "import zipfile\n",
        "\n",
        "# Step 1: Extract train.zip\n",
        "with zipfile.ZipFile('Datasets/train.zip', 'r') as zip_ref:\n",
        "    zip_ref.extractall('Datasets/train')\n",
        "\n",
        "# Step 2: Extract test.zip\n",
        "with zipfile.ZipFile('Datasets/test.zip', 'r') as zip_ref:\n",
        "    zip_ref.extractall('Datasets/test')\n",
        "\n",
        "# Step 3: Check the extracted files\n",
        "print(\"Train Files:\", os.listdir('Datasets/train'))\n",
        "print(\"Test Files:\", os.listdir('Datasets/test'))\n",
        "\n",
        "# Step 4: Create a Spark session\n",
        "from pyspark.sql import SparkSession\n",
        "\n",
        "spark = SparkSession.builder.appName(\"SpookyAuthorIdentification\").getOrCreate()\n",
        "\n",
        "# Step 5: Load training data into a DataFrame\n",
        "try:\n",
        "    train_df = spark.read.csv('Datasets/train/train.csv', header=True, inferSchema=True)\n",
        "    train_df.printSchema()\n",
        "    train_df.show(5)\n",
        "except Exception as e:\n",
        "    print(\"Error loading the CSV file:\", e)\n",
        "\n",
        "# Step 6: Load test data into a DataFrame\n",
        "try:\n",
        "    test_df = spark.read.csv('Datasets/test/test.csv', header=True, inferSchema=True)\n",
        "    test_df.printSchema()\n",
        "    test_df.show(5)\n",
        "except Exception as e:\n",
        "    print(\"Error loading the CSV file:\", e)\n"
      ],
      "metadata": {
        "colab": {
          "base_uri": "https://localhost:8080/"
        },
        "id": "--z3iv4nQXxc",
        "outputId": "3432a758-7972-4e9e-d9bf-948c93a50033"
      },
      "execution_count": 35,
      "outputs": [
        {
          "output_type": "stream",
          "name": "stdout",
          "text": [
            "Train Files: ['train.csv']\n",
            "Test Files: ['test.csv']\n",
            "root\n",
            " |-- id: string (nullable = true)\n",
            " |-- text: string (nullable = true)\n",
            " |-- author: string (nullable = true)\n",
            "\n",
            "+-------+--------------------+------+\n",
            "|     id|                text|author|\n",
            "+-------+--------------------+------+\n",
            "|id26305|This process, how...|   EAP|\n",
            "|id17569|It never once occ...|   HPL|\n",
            "|id11008|In his left hand ...|   EAP|\n",
            "|id27763|How lovely is spr...|   MWS|\n",
            "|id12958|Finding nothing e...|   HPL|\n",
            "+-------+--------------------+------+\n",
            "only showing top 5 rows\n",
            "\n",
            "root\n",
            " |-- id: string (nullable = true)\n",
            " |-- text: string (nullable = true)\n",
            "\n",
            "+-------+--------------------+\n",
            "|     id|                text|\n",
            "+-------+--------------------+\n",
            "|id02310|Still, as I urged...|\n",
            "|id24541|If a fire wanted ...|\n",
            "|id00134|And when they had...|\n",
            "|id27757|While I was think...|\n",
            "|id04081|I am not sure to ...|\n",
            "+-------+--------------------+\n",
            "only showing top 5 rows\n",
            "\n"
          ]
        }
      ]
    },
    {
      "cell_type": "code",
      "source": [
        "#Print num rows and cols in the training set\n",
        "train_row_count = train_df.count()\n",
        "train_column_count = len(train_df.columns)\n",
        "print(f\"Training Data - Rows: {train_row_count}, Columns: {train_column_count}\")"
      ],
      "metadata": {
        "colab": {
          "base_uri": "https://localhost:8080/"
        },
        "id": "-ZI4ossZRCIx",
        "outputId": "ae90b5e2-c5f4-4dde-8d24-4d2a24246739"
      },
      "execution_count": 36,
      "outputs": [
        {
          "output_type": "stream",
          "name": "stdout",
          "text": [
            "Training Data - Rows: 19579, Columns: 3\n"
          ]
        }
      ]
    },
    {
      "cell_type": "code",
      "source": [
        "#Print num rows and cols in the test set\n",
        "test_row_count = test_df.count()\n",
        "test_column_count = len(test_df.columns)\n",
        "print(f\"Test Data - Rows: {test_row_count}, Columns: {test_column_count}\")"
      ],
      "metadata": {
        "colab": {
          "base_uri": "https://localhost:8080/"
        },
        "id": "112zxjTBRJKY",
        "outputId": "fa0e401e-6448-43bd-aa7e-669e898c151e"
      },
      "execution_count": 37,
      "outputs": [
        {
          "output_type": "stream",
          "name": "stdout",
          "text": [
            "Test Data - Rows: 8392, Columns: 2\n"
          ]
        }
      ]
    },
    {
      "cell_type": "code",
      "source": [
        "#Check for missing values (There are none)\n",
        "train_df.select([F.count(F.when(F.col(c).isNull(), c)).alias(c) for c in train_df.columns]).show()\n",
        "test_df.select([F.count(F.when(F.col(c).isNull(), c)).alias(c) for c in test_df.columns]).show()"
      ],
      "metadata": {
        "colab": {
          "base_uri": "https://localhost:8080/"
        },
        "id": "6ZRjBKyuRO4t",
        "outputId": "d9a0cae6-075a-47bb-8d2e-45f773a8044b"
      },
      "execution_count": 38,
      "outputs": [
        {
          "output_type": "stream",
          "name": "stdout",
          "text": [
            "+---+----+------+\n",
            "| id|text|author|\n",
            "+---+----+------+\n",
            "|  0|   0|     0|\n",
            "+---+----+------+\n",
            "\n",
            "+---+----+\n",
            "| id|text|\n",
            "+---+----+\n",
            "|  0|   0|\n",
            "+---+----+\n",
            "\n"
          ]
        }
      ]
    },
    {
      "cell_type": "code",
      "source": [
        "#Create sentence length column\n",
        "train_df = train_df.withColumn(\"sentence_length\", F.length(F.col(\"text\")))\n",
        "train_df.select(\"sentence_length\").describe().show()"
      ],
      "metadata": {
        "colab": {
          "base_uri": "https://localhost:8080/"
        },
        "id": "sn7EvJAART9J",
        "outputId": "8996d754-1bc5-44ae-8061-7e057872c823"
      },
      "execution_count": 39,
      "outputs": [
        {
          "output_type": "stream",
          "name": "stdout",
          "text": [
            "+-------+------------------+\n",
            "|summary|   sentence_length|\n",
            "+-------+------------------+\n",
            "|  count|             19579|\n",
            "|   mean|139.99765054395016|\n",
            "| stddev|101.25452331007808|\n",
            "|    min|                 5|\n",
            "|    max|              3682|\n",
            "+-------+------------------+\n",
            "\n"
          ]
        }
      ]
    },
    {
      "cell_type": "code",
      "source": [
        "#Use tokenizer to tokenize the text\n",
        "tokenizer = Tokenizer(inputCol=\"text\", outputCol=\"words\")\n",
        "tokenized_train_df = tokenizer.transform(train_df)\n",
        "\n",
        "#Print tokenized output\n",
        "tokenized_train_df.select(\"text\", \"words\").show(5, truncate=False)"
      ],
      "metadata": {
        "colab": {
          "base_uri": "https://localhost:8080/"
        },
        "id": "2I9ndt8GRZNy",
        "outputId": "7366180c-be77-471a-9793-c84f7ace8a75"
      },
      "execution_count": 40,
      "outputs": [
        {
          "output_type": "stream",
          "name": "stdout",
          "text": [
            "+---------------------------------------------------------------------------------------------------------------------------------------------------------------------------------------------------------------------------------------+---------------------------------------------------------------------------------------------------------------------------------------------------------------------------------------------------------------------------------------------------------------------------------+\n",
            "|text                                                                                                                                                                                                                                   |words                                                                                                                                                                                                                                                                            |\n",
            "+---------------------------------------------------------------------------------------------------------------------------------------------------------------------------------------------------------------------------------------+---------------------------------------------------------------------------------------------------------------------------------------------------------------------------------------------------------------------------------------------------------------------------------+\n",
            "|This process, however, afforded me no means of ascertaining the dimensions of my dungeon; as I might make its circuit, and return to the point whence I set out, without being aware of the fact; so perfectly uniform seemed the wall.|[this, process,, however,, afforded, me, no, means, of, ascertaining, the, dimensions, of, my, dungeon;, as, i, might, make, its, circuit,, and, return, to, the, point, whence, i, set, out,, without, being, aware, of, the, fact;, so, perfectly, uniform, seemed, the, wall.]|\n",
            "|It never once occurred to me that the fumbling might be a mere mistake.                                                                                                                                                                |[it, never, once, occurred, to, me, that, the, fumbling, might, be, a, mere, mistake.]                                                                                                                                                                                           |\n",
            "|In his left hand was a gold snuff box, from which, as he capered down the hill, cutting all manner of fantastic steps, he took snuff incessantly with an air of the greatest possible self satisfaction.                               |[in, his, left, hand, was, a, gold, snuff, box,, from, which,, as, he, capered, down, the, hill,, cutting, all, manner, of, fantastic, steps,, he, took, snuff, incessantly, with, an, air, of, the, greatest, possible, self, satisfaction.]                                    |\n",
            "|How lovely is spring As we looked from Windsor Terrace on the sixteen fertile counties spread beneath, speckled by happy cottages and wealthier towns, all looked as in former years, heart cheering and fair.                         |[how, lovely, is, spring, as, we, looked, from, windsor, terrace, on, the, sixteen, fertile, counties, spread, beneath,, speckled, by, happy, cottages, and, wealthier, towns,, all, looked, as, in, former, years,, heart, cheering, and, fair.]                                |\n",
            "|Finding nothing else, not even gold, the Superintendent abandoned his attempts; but a perplexed look occasionally steals over his countenance as he sits thinking at his desk.                                                         |[finding, nothing, else,, not, even, gold,, the, superintendent, abandoned, his, attempts;, but, a, perplexed, look, occasionally, steals, over, his, countenance, as, he, sits, thinking, at, his, desk.]                                                                       |\n",
            "+---------------------------------------------------------------------------------------------------------------------------------------------------------------------------------------------------------------------------------------+---------------------------------------------------------------------------------------------------------------------------------------------------------------------------------------------------------------------------------------------------------------------------------+\n",
            "only showing top 5 rows\n",
            "\n"
          ]
        }
      ]
    },
    {
      "cell_type": "code",
      "source": [
        "#Create an instance of StopWordsRemover and use it to filter the tokens and remove stop words\n",
        "#The new filtered tokens are placed in a new column \"filtered_words\"\n",
        "remover = StopWordsRemover(inputCol=\"words\", outputCol=\"filtered_words\")\n",
        "cleaned_train_df = remover.transform(tokenized_train_df)\n",
        "\n",
        "#Print the cleaned output\n",
        "cleaned_train_df.select(\"words\", \"filtered_words\").show(5, truncate=False)"
      ],
      "metadata": {
        "colab": {
          "base_uri": "https://localhost:8080/"
        },
        "id": "JdJdBfILRaBF",
        "outputId": "8bb2878e-49bf-44d2-e60d-b419fac0a147"
      },
      "execution_count": 41,
      "outputs": [
        {
          "output_type": "stream",
          "name": "stdout",
          "text": [
            "+---------------------------------------------------------------------------------------------------------------------------------------------------------------------------------------------------------------------------------------------------------------------------------+--------------------------------------------------------------------------------------------------------------------------------------------------------------------------------------------+\n",
            "|words                                                                                                                                                                                                                                                                            |filtered_words                                                                                                                                                                              |\n",
            "+---------------------------------------------------------------------------------------------------------------------------------------------------------------------------------------------------------------------------------------------------------------------------------+--------------------------------------------------------------------------------------------------------------------------------------------------------------------------------------------+\n",
            "|[this, process,, however,, afforded, me, no, means, of, ascertaining, the, dimensions, of, my, dungeon;, as, i, might, make, its, circuit,, and, return, to, the, point, whence, i, set, out,, without, being, aware, of, the, fact;, so, perfectly, uniform, seemed, the, wall.]|[process,, however,, afforded, means, ascertaining, dimensions, dungeon;, might, make, circuit,, return, point, whence, set, out,, without, aware, fact;, perfectly, uniform, seemed, wall.]|\n",
            "|[it, never, once, occurred, to, me, that, the, fumbling, might, be, a, mere, mistake.]                                                                                                                                                                                           |[never, occurred, fumbling, might, mere, mistake.]                                                                                                                                          |\n",
            "|[in, his, left, hand, was, a, gold, snuff, box,, from, which,, as, he, capered, down, the, hill,, cutting, all, manner, of, fantastic, steps,, he, took, snuff, incessantly, with, an, air, of, the, greatest, possible, self, satisfaction.]                                    |[left, hand, gold, snuff, box,, which,, capered, hill,, cutting, manner, fantastic, steps,, took, snuff, incessantly, air, greatest, possible, self, satisfaction.]                         |\n",
            "|[how, lovely, is, spring, as, we, looked, from, windsor, terrace, on, the, sixteen, fertile, counties, spread, beneath,, speckled, by, happy, cottages, and, wealthier, towns,, all, looked, as, in, former, years,, heart, cheering, and, fair.]                                |[lovely, spring, looked, windsor, terrace, sixteen, fertile, counties, spread, beneath,, speckled, happy, cottages, wealthier, towns,, looked, former, years,, heart, cheering, fair.]      |\n",
            "|[finding, nothing, else,, not, even, gold,, the, superintendent, abandoned, his, attempts;, but, a, perplexed, look, occasionally, steals, over, his, countenance, as, he, sits, thinking, at, his, desk.]                                                                       |[finding, nothing, else,, even, gold,, superintendent, abandoned, attempts;, perplexed, look, occasionally, steals, countenance, sits, thinking, desk.]                                     |\n",
            "+---------------------------------------------------------------------------------------------------------------------------------------------------------------------------------------------------------------------------------------------------------------------------------+--------------------------------------------------------------------------------------------------------------------------------------------------------------------------------------------+\n",
            "only showing top 5 rows\n",
            "\n"
          ]
        }
      ]
    },
    {
      "cell_type": "markdown",
      "source": [
        "# Satge 2 Feature Extraction:\n",
        "we will convert the cleaned text into numerical features using TF-IDF (Term Frequency-Inverse Document Frequency)."
      ],
      "metadata": {
        "id": "xH4BaNwvRz0x"
      }
    },
    {
      "cell_type": "code",
      "source": [
        "from pyspark.ml.feature import HashingTF, IDF  #import libraray\n"
      ],
      "metadata": {
        "id": "aOgR-uHqSEI8"
      },
      "execution_count": 42,
      "outputs": []
    },
    {
      "cell_type": "code",
      "source": [
        "# Create the HashingTF instance to map a text to its term frequencies\n",
        "hashingTF = HashingTF(inputCol=\"filtered_words\", outputCol=\"rawFeatures\", numFeatures=10000)\n",
        "featurized_train_df = hashingTF.transform(cleaned_train_df)\n",
        "\n",
        "# Show the raw features\n",
        "featurized_train_df.select(\"id\", \"rawFeatures\").show(5, truncate=False)\n"
      ],
      "metadata": {
        "colab": {
          "base_uri": "https://localhost:8080/"
        },
        "id": "sJ1v5jNqSHWc",
        "outputId": "f5ea2b63-3079-4a78-92d0-458472a1b25f"
      },
      "execution_count": 43,
      "outputs": [
        {
          "output_type": "stream",
          "name": "stdout",
          "text": [
            "+-------+------------------------------------------------------------------------------------------------------------------------------------------------------------------------------------------------------------+\n",
            "|id     |rawFeatures                                                                                                                                                                                                 |\n",
            "+-------+------------------------------------------------------------------------------------------------------------------------------------------------------------------------------------------------------------+\n",
            "|id26305|(10000,[92,635,683,894,1717,2178,2254,3072,3117,3509,3525,3924,4043,4086,4416,5342,5724,5875,6159,7927,8694,9460],[1.0,1.0,1.0,1.0,1.0,1.0,1.0,1.0,1.0,1.0,1.0,1.0,1.0,1.0,1.0,1.0,1.0,1.0,1.0,1.0,1.0,1.0])|\n",
            "|id17569|(10000,[281,3924,3996,5819,6611,8713],[1.0,1.0,1.0,1.0,1.0,1.0])                                                                                                                                            |\n",
            "|id11008|(10000,[88,146,693,696,1662,1703,1827,2450,3175,3423,4373,4729,5414,5647,6100,6257,6760,8997,9443],[1.0,1.0,1.0,1.0,1.0,1.0,2.0,1.0,1.0,1.0,1.0,1.0,1.0,1.0,1.0,1.0,1.0,1.0,1.0])                           |\n",
            "|id27763|(10000,[868,1172,1387,1644,1772,1901,2275,3453,4160,4401,5097,5347,5798,7014,7039,7482,9062,9421,9808,9884],[1.0,1.0,1.0,1.0,1.0,1.0,1.0,1.0,1.0,1.0,2.0,1.0,1.0,1.0,1.0,1.0,1.0,1.0,1.0,1.0])              |\n",
            "|id12958|(10000,[604,775,2002,2232,2835,4160,4292,4533,4632,5067,6406,7737,9130,9428,9559,9939],[1.0,1.0,1.0,1.0,1.0,1.0,1.0,1.0,1.0,1.0,1.0,1.0,1.0,1.0,1.0,1.0])                                                   |\n",
            "+-------+------------------------------------------------------------------------------------------------------------------------------------------------------------------------------------------------------------+\n",
            "only showing top 5 rows\n",
            "\n"
          ]
        }
      ]
    },
    {
      "cell_type": "code",
      "source": [
        "# Compute the IDF\n",
        "idf = IDF(inputCol=\"rawFeatures\", outputCol=\"features\")\n",
        "idfModel = idf.fit(featurized_train_df)\n",
        "rescaled_train_df = idfModel.transform(featurized_train_df)\n",
        "\n",
        "# Show the resulting DataFrame with features\n",
        "rescaled_train_df.select(\"id\", \"features\").show(truncate=False)\n"
      ],
      "metadata": {
        "colab": {
          "base_uri": "https://localhost:8080/"
        },
        "id": "AVRYzt8DU_2g",
        "outputId": "8aaa71a5-a6c4-43b6-b233-feac79d689f0"
      },
      "execution_count": 44,
      "outputs": [
        {
          "output_type": "stream",
          "name": "stdout",
          "text": [
            "+-------+----------------------------------------------------------------------------------------------------------------------------------------------------------------------------------------------------------------------------------------------------------------------------------------------------------------------------------------------------------------------------------------------------------------------------------------------------------------------------------------------------------------------------------------------------------------------------------------------------------------------------------------------------------------------------------------------------------------------------------------------------------------------------------------------------------------------------------------------------------------------------------------------------------------------------------------------------------------+\n",
            "|id     |features                                                                                                                                                                                                                                                                                                                                                                                                                                                                                                                                                                                                                                                                                                                                                                                                                                                                                                                                                        |\n",
            "+-------+----------------------------------------------------------------------------------------------------------------------------------------------------------------------------------------------------------------------------------------------------------------------------------------------------------------------------------------------------------------------------------------------------------------------------------------------------------------------------------------------------------------------------------------------------------------------------------------------------------------------------------------------------------------------------------------------------------------------------------------------------------------------------------------------------------------------------------------------------------------------------------------------------------------------------------------------------------------+\n",
            "|id26305|(10000,[92,635,683,894,1717,2178,2254,3072,3117,3509,3525,3924,4043,4086,4416,5342,5724,5875,6159,7927,8694,9460],[5.950438283360175,5.03807682962591,5.662756210908395,6.121063800390939,6.663388091216301,4.152164133110927,5.931020197503074,6.746769700155352,7.936353767029188,4.912450616508501,4.360802998222255,3.524421649576402,4.059218020601483,6.144594297801133,4.851825994692066,4.788513715277739,6.144594297801133,6.7912214627261855,7.579678823090456,5.287144065949912,7.243206586469243,3.6458943258807968])                                                                                                                                                                                                                                                                                                                                                                                                                               |\n",
            "|id17569|(10000,[281,3924,3996,5819,6611,8713],[3.6777061535158113,3.524421649576402,5.839212648249951,5.77139005191119,5.7879193538624,5.120089981286745])                                                                                                                                                                                                                                                                                                                                                                                                                                                                                                                                                                                                                                                                                                                                                                                                              |\n",
            "|id11008|(10000,[88,146,693,696,1662,1703,1827,2450,3175,3423,4373,4729,5414,5647,6100,6257,6760,8997,9443],[4.794667580852117,6.481066534422346,6.09807428216624,4.711779921046349,4.240356845146388,4.475092144624383,13.100118811818595,7.174213714982291,6.7912214627261855,4.788513715277739,6.837741478361078,5.931020197503074,5.6926091740580755,4.758299936681243,5.163765044789407,5.990443617973875,5.451447117241187,5.247534927854866,5.181783550292085])                                                                                                                                                                                                                                                                                                                                                                                                                                                                                                   |\n",
            "|id27763|(10000,[868,1172,1387,1644,1772,1901,2275,3453,4160,4401,5097,5347,5798,7014,7039,7482,9062,9421,9808,9884],[6.937824936918061,7.802822374404665,6.481066534422346,5.8218209055380825,6.244677756358116,6.7912214627261855,5.200132688960282,7.397357266296501,5.228303565926978,5.371404409567651,8.950184289248766,5.564775802548191,4.898657294376165,5.839212648249951,5.87493073085203,7.579678823090456,5.990443617973875,6.991892158188337,4.48863636973214,7.317314558622964])                                                                                                                                                                                                                                                                                                                                                                                                                                                                          |\n",
            "|id12958|(10000,[604,775,2002,2232,2835,4160,4292,4533,4632,5067,6406,7737,9130,9428,9559,9939],[5.1115792916188365,5.154876097372161,6.326915854595088,6.704210085736555,7.484368643286131,5.228303565926978,4.364811019619794,7.397357266296501,6.550059405909297,6.837741478361078,3.3764798559562728,7.397357266296501,6.011062905176611,5.87493073085203,6.0536225195954065,4.8008595511000385])                                                                                                                                                                                                                                                                                                                                                                                                                                                                                                                                                                    |\n",
            "|id22965|(10000,[281,367,763,952,1230,1779,1810,1877,1929,2197,2662,3304,3496,3516,3760,3940,4512,4867,5458,5627,6816,6835,6892,7454,7457,7596,8073,8442,8514,8594,8644,8673,8819,9439,9619,9660,9673,9776,9808],[3.6777061535158113,6.032116314374443,5.146065467690006,6.193384461970565,6.746769700155352,7.397357266296501,7.397357266296501,7.397357266296501,6.193384461970565,5.360475339035461,6.298744977628392,5.619584039043186,5.723380832724829,6.937824936918061,6.837741478361078,7.802822374404665,8.090504446856446,5.247534927854866,8.090504446856446,5.633768674035142,7.579678823090456,5.120089981286745,5.662756210908395,6.481066534422346,6.011062905176611,5.677571296693535,6.5864270500801725,4.181820342693815,6.991892158188337,6.218702269954855,4.689307065194291,4.139260728275019,8.090504446856446,5.154876097372161,5.475544668820248,5.839212648249951,3.9606854964406857,6.416528013284775,4.48863636973214])                      |\n",
            "|id09674|(10000,[527,1703,3113,3248,3328,3488,5089,5880,7193,8267,8581,9260],[4.569057937042714,4.475092144624383,7.484368643286131,7.049050572028285,5.605597797068446,7.484368643286131,6.481066534422346,5.349664422931245,5.970240910656355,4.4398462055627075,4.926436858483241,6.244677756358116])                                                                                                                                                                                                                                                                                                                                                                                                                                                                                                                                                                                                                                                                 |\n",
            "|id13515|(10000,[2519,3338,5726,7023],[6.624167378063019,8.49596955496461,5.707876646188864,5.51281606361748])                                                                                                                                                                                                                                                                                                                                                                                                                                                                                                                                                                                                                                                                                                                                                                                                                                                           |\n",
            "|id19322|(10000,[133,198,673,750,836,892,979,1079,1311,1333,1388,1590,1780,1783,1850,2095,2335,2855,3079,3303,4037,4043,4293,4632,4792,5684,5862,5958,6120,6289,6842,6892,6905,8425,8592,8655,8904,8982,9504,9673],[5.931020197503074,6.514968086098027,5.5384584942308175,3.804621672735467,5.707876646188864,4.711779921046349,6.837741478361078,8.783651627416392,8.090504446856446,5.5515305757981706,5.990443617973875,3.7864393536522765,4.30253409009828,6.704210085736555,4.706114183510672,4.254642802393864,4.7232086168699725,7.317314558622964,5.349664422931245,6.075601426314182,3.4068311993804112,4.059218020601483,5.804726472178782,6.550059405909297,5.856912225349352,4.171836898709632,4.376932380152138,4.67277776324308,8.272826003650401,4.010146126609086,6.88653164253051,5.662756210908395,7.397357266296501,6.271346003440277,5.228303565926978,5.5384584942308175,3.813838327840391,5.856912225349352,7.317314558622964,3.9606854964406857])|\n",
            "|id00912|(10000,[132,2996,4029,4420,5065,5177,5753,5887,6647,6680,7619,9349],[6.746769700155352,6.5864270500801725,6.514968086098027,7.802822374404665,5.1115792916188365,4.229774735815851,7.936353767029188,6.746769700155352,5.475544668820248,6.326915854595088,5.27709373009641,7.484368643286131])                                                                                                                                                                                                                                                                                                                                                                                                                                                                                                                                                                                                                                                                 |\n",
            "|id16737|(10000,[3028,3115,4566,4858,5967,6746,6906,7510,7657,9674],[8.49596955496461,4.940621493475197,6.385756354618021,4.700480365792417,6.326915854595088,5.911972002532379,5.856912225349352,4.5739962186832965,8.417881297826018,7.685039338748282])                                                                                                                                                                                                                                                                                                                                                                                                                                                                                                                                                                                                                                                                                                               |\n",
            "|id16607|(10000,[4052,4612,4724,8130,9185],[7.174213714982291,5.52555508939491,8.272826003650401,4.891831329305766,4.056263808704051])                                                                                                                                                                                                                                                                                                                                                                                                                                                                                                                                                                                                                                                                                                                                                                                                                                   |\n",
            "|id19764|(10000,[2162,2401,3144,3477,4756,5085,7074,9527,9568],[6.448276711599355,6.144594297801133,5.0619823504794645,4.095366534717794,5.022451511722829,4.6837668848186755,4.740600359581841,4.9622829902563765,6.011062905176611])                                                                                                                                                                                                                                                                                                                                                                                                                                                                                                                                                                                                                                                                                                                                   |\n",
            "|id18886|(10000,[1862,2104,2638,3330,4729,4803,8430,8566,8951,9372],[6.663388091216301,6.7912214627261855,6.075601426314182,3.605620426742857,5.931020197503074,6.7912214627261855,4.405800364152991,4.444184607161306,6.663388091216301,5.5384584942308175])                                                                                                                                                                                                                                                                                                                                                                                                                                                                                                                                                                                                                                                                                                            |\n",
            "|id17189|(10000,[818,1375,4019,5806],[6.168691849380194,6.0536225195954065,5.950438283360175,7.685039338748282])                                                                                                                                                                                                                                                                                                                                                                                                                                                                                                                                                                                                                                                                                                                                                                                                                                                         |\n",
            "|id12799|(10000,[307,1023,1417,2268,2995,3920,3991,4591,5178,5450,5840,6000,6212,6218,6223,6323,7017,7074,8222,8293,8566,8873,8904,9937],[7.317314558622964,3.6458943258807968,6.448276711599355,5.739129189692969,6.5864270500801725,5.146065467690006,6.416528013284775,6.5864270500801725,6.193384461970565,5.25729110280023,5.662756210908395,4.645821953254552,5.120089981286745,6.193384461970565,7.317314558622964,5.451447117241187,3.8348917370382236,4.740600359581841,6.663388091216301,6.416528013284775,4.444184607161306,5.677571296693535,3.813838327840391,6.7912214627261855])                                                                                                                                                                                                                                                                                                                                                                          |\n",
            "|id08441|(10000,[448,684,731,944,1163,1590,1929,1964,2441,2672,2863,3503,4105,4450,4884,4918,5529,5626,5862,6325,6515,6557,7193,7605,7636,8136,9126,9396],[6.09807428216624,7.802822374404665,5.77139005191119,5.950438283360175,7.484368643286131,3.7864393536522765,6.193384461970565,4.435526544418192,5.931020197503074,4.212382993103982,5.911972002532379,5.893279869520227,7.397357266296501,8.783651627416392,6.746769700155352,7.685039338748282,4.819668883057535,5.5515305757981706,4.376932380152138,4.976989137646072,6.550059405909297,5.7879193538624,5.970240910656355,6.326915854595088,6.271346003440277,5.893279869520227,5.120089981286745,7.579678823090456])                                                                                                                                                                                                                                                                                       |\n",
            "|id13117|(10000,[157,1601,2162,2743,3701,4649,5736,5840,6748,7517,7686,8346,8533,9524,9808],[3.880849038123351,5.619584039043186,6.448276711599355,6.218702269954855,6.5864270500801725,5.078242871351245,5.439612659594185,5.662756210908395,5.723380832724829,5.931020197503074,7.10967519384472,6.271346003440277,5.893279869520227,6.991892158188337,4.48863636973214])                                                                                                                                                                                                                                                                                                                                                                                                                                                                                                                                                                                              |\n",
            "|id14862|(10000,[1,278,450,815,2215,2922,3975,4146,4158,4732,5166,5414,5647,5780,5858,6176,6406,6513,8930,9101,9144,9185,9371,9604,9989],[5.451447117241187,6.7912214627261855,5.990443617973875,2.7221947084883746,5.648157411487242,4.969609030348449,3.6777061535158113,6.837741478361078,4.080145540707439,5.181783550292085,6.416528013284775,5.6926091740580755,4.758299936681243,3.8883024887779323,6.7912214627261855,6.704210085736555,3.3764798559562728,6.937824936918061,7.174213714982291,6.837741478361078,7.484368643286131,4.056263808704051,4.520971750375076,6.032116314374443,6.5864270500801725])                                                                                                                                                                                                                                                                                                                                                    |\n",
            "|id20836|(10000,[88,157,196,223,236,447,461,508,745,1065,1664,2040,3192,3385,3783,4891,5494,6289,6513,7124,7225,7327,7529,7823,8566,8670,8779,8894,9868],[4.794667580852117,3.880849038123351,5.707876646188864,5.8218209055380825,5.297296437413929,6.416528013284775,5.839212648249951,6.385756354618021,6.746769700155352,5.451447117241187,6.991892158188337,8.49596955496461,5.911972002532379,4.175153651335625,4.7232086168699725,7.936353767029188,6.218702269954855,4.010146126609086,6.937824936918061,5.911972002532379,6.624167378063019,6.144594297801133,7.685039338748282,6.385756354618021,4.444184607161306,7.317314558622964,6.837741478361078,5.970240910656355,5.931020197503074])                                                                                                                                                                                                                                                                   |\n",
            "+-------+----------------------------------------------------------------------------------------------------------------------------------------------------------------------------------------------------------------------------------------------------------------------------------------------------------------------------------------------------------------------------------------------------------------------------------------------------------------------------------------------------------------------------------------------------------------------------------------------------------------------------------------------------------------------------------------------------------------------------------------------------------------------------------------------------------------------------------------------------------------------------------------------------------------------------------------------------------------+\n",
            "only showing top 20 rows\n",
            "\n"
          ]
        }
      ]
    },
    {
      "cell_type": "code",
      "source": [
        "training_data = rescaled_train_df.select(\"features\", \"author\")\n"
      ],
      "metadata": {
        "id": "8DT3FHs3VKkN"
      },
      "execution_count": 45,
      "outputs": []
    }
  ]
}