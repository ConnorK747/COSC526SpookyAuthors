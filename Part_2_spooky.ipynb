{
  "nbformat": 4,
  "nbformat_minor": 0,
  "metadata": {
    "colab": {
      "provenance": [],
      "gpuType": "T4",
      "include_colab_link": true
    },
    "kernelspec": {
      "name": "python3",
      "display_name": "Python 3"
    },
    "language_info": {
      "name": "python"
    }
  },
  "cells": [
    {
      "cell_type": "markdown",
      "metadata": {
        "id": "view-in-github",
        "colab_type": "text"
      },
      "source": [
        "<a href=\"https://colab.research.google.com/github/ConnorK747/COSC526SpookyAuthors/blob/Richa--Satge2/Part_2_spooky.ipynb\" target=\"_parent\"><img src=\"https://colab.research.google.com/assets/colab-badge.svg\" alt=\"Open In Colab\"/></a>"
      ]
    },
    {
      "cell_type": "code",
      "source": [
        "!pip install pyspark\n"
      ],
      "metadata": {
        "colab": {
          "base_uri": "https://localhost:8080/"
        },
        "id": "n_nndWBfEzA_",
        "outputId": "17168b1a-4ff2-4600-bcd8-e5aee25e7aae"
      },
      "execution_count": 19,
      "outputs": [
        {
          "output_type": "stream",
          "name": "stdout",
          "text": [
            "Requirement already satisfied: pyspark in /usr/local/lib/python3.10/dist-packages (3.5.3)\n",
            "Requirement already satisfied: py4j==0.10.9.7 in /usr/local/lib/python3.10/dist-packages (from pyspark) (0.10.9.7)\n"
          ]
        }
      ]
    },
    {
      "cell_type": "code",
      "source": [
        "from google.colab import files\n",
        "uploaded = files.upload()  # Select the kaggle.json file from your computer\n"
      ],
      "metadata": {
        "colab": {
          "base_uri": "https://localhost:8080/",
          "height": 73
        },
        "id": "AW_AwOETOtu4",
        "outputId": "e6563f7b-b41a-4471-9020-5ae2d131532d"
      },
      "execution_count": 20,
      "outputs": [
        {
          "output_type": "display_data",
          "data": {
            "text/plain": [
              "<IPython.core.display.HTML object>"
            ],
            "text/html": [
              "\n",
              "     <input type=\"file\" id=\"files-476370ec-df0f-48bc-a0c1-413124986d29\" name=\"files[]\" multiple disabled\n",
              "        style=\"border:none\" />\n",
              "     <output id=\"result-476370ec-df0f-48bc-a0c1-413124986d29\">\n",
              "      Upload widget is only available when the cell has been executed in the\n",
              "      current browser session. Please rerun this cell to enable.\n",
              "      </output>\n",
              "      <script>// Copyright 2017 Google LLC\n",
              "//\n",
              "// Licensed under the Apache License, Version 2.0 (the \"License\");\n",
              "// you may not use this file except in compliance with the License.\n",
              "// You may obtain a copy of the License at\n",
              "//\n",
              "//      http://www.apache.org/licenses/LICENSE-2.0\n",
              "//\n",
              "// Unless required by applicable law or agreed to in writing, software\n",
              "// distributed under the License is distributed on an \"AS IS\" BASIS,\n",
              "// WITHOUT WARRANTIES OR CONDITIONS OF ANY KIND, either express or implied.\n",
              "// See the License for the specific language governing permissions and\n",
              "// limitations under the License.\n",
              "\n",
              "/**\n",
              " * @fileoverview Helpers for google.colab Python module.\n",
              " */\n",
              "(function(scope) {\n",
              "function span(text, styleAttributes = {}) {\n",
              "  const element = document.createElement('span');\n",
              "  element.textContent = text;\n",
              "  for (const key of Object.keys(styleAttributes)) {\n",
              "    element.style[key] = styleAttributes[key];\n",
              "  }\n",
              "  return element;\n",
              "}\n",
              "\n",
              "// Max number of bytes which will be uploaded at a time.\n",
              "const MAX_PAYLOAD_SIZE = 100 * 1024;\n",
              "\n",
              "function _uploadFiles(inputId, outputId) {\n",
              "  const steps = uploadFilesStep(inputId, outputId);\n",
              "  const outputElement = document.getElementById(outputId);\n",
              "  // Cache steps on the outputElement to make it available for the next call\n",
              "  // to uploadFilesContinue from Python.\n",
              "  outputElement.steps = steps;\n",
              "\n",
              "  return _uploadFilesContinue(outputId);\n",
              "}\n",
              "\n",
              "// This is roughly an async generator (not supported in the browser yet),\n",
              "// where there are multiple asynchronous steps and the Python side is going\n",
              "// to poll for completion of each step.\n",
              "// This uses a Promise to block the python side on completion of each step,\n",
              "// then passes the result of the previous step as the input to the next step.\n",
              "function _uploadFilesContinue(outputId) {\n",
              "  const outputElement = document.getElementById(outputId);\n",
              "  const steps = outputElement.steps;\n",
              "\n",
              "  const next = steps.next(outputElement.lastPromiseValue);\n",
              "  return Promise.resolve(next.value.promise).then((value) => {\n",
              "    // Cache the last promise value to make it available to the next\n",
              "    // step of the generator.\n",
              "    outputElement.lastPromiseValue = value;\n",
              "    return next.value.response;\n",
              "  });\n",
              "}\n",
              "\n",
              "/**\n",
              " * Generator function which is called between each async step of the upload\n",
              " * process.\n",
              " * @param {string} inputId Element ID of the input file picker element.\n",
              " * @param {string} outputId Element ID of the output display.\n",
              " * @return {!Iterable<!Object>} Iterable of next steps.\n",
              " */\n",
              "function* uploadFilesStep(inputId, outputId) {\n",
              "  const inputElement = document.getElementById(inputId);\n",
              "  inputElement.disabled = false;\n",
              "\n",
              "  const outputElement = document.getElementById(outputId);\n",
              "  outputElement.innerHTML = '';\n",
              "\n",
              "  const pickedPromise = new Promise((resolve) => {\n",
              "    inputElement.addEventListener('change', (e) => {\n",
              "      resolve(e.target.files);\n",
              "    });\n",
              "  });\n",
              "\n",
              "  const cancel = document.createElement('button');\n",
              "  inputElement.parentElement.appendChild(cancel);\n",
              "  cancel.textContent = 'Cancel upload';\n",
              "  const cancelPromise = new Promise((resolve) => {\n",
              "    cancel.onclick = () => {\n",
              "      resolve(null);\n",
              "    };\n",
              "  });\n",
              "\n",
              "  // Wait for the user to pick the files.\n",
              "  const files = yield {\n",
              "    promise: Promise.race([pickedPromise, cancelPromise]),\n",
              "    response: {\n",
              "      action: 'starting',\n",
              "    }\n",
              "  };\n",
              "\n",
              "  cancel.remove();\n",
              "\n",
              "  // Disable the input element since further picks are not allowed.\n",
              "  inputElement.disabled = true;\n",
              "\n",
              "  if (!files) {\n",
              "    return {\n",
              "      response: {\n",
              "        action: 'complete',\n",
              "      }\n",
              "    };\n",
              "  }\n",
              "\n",
              "  for (const file of files) {\n",
              "    const li = document.createElement('li');\n",
              "    li.append(span(file.name, {fontWeight: 'bold'}));\n",
              "    li.append(span(\n",
              "        `(${file.type || 'n/a'}) - ${file.size} bytes, ` +\n",
              "        `last modified: ${\n",
              "            file.lastModifiedDate ? file.lastModifiedDate.toLocaleDateString() :\n",
              "                                    'n/a'} - `));\n",
              "    const percent = span('0% done');\n",
              "    li.appendChild(percent);\n",
              "\n",
              "    outputElement.appendChild(li);\n",
              "\n",
              "    const fileDataPromise = new Promise((resolve) => {\n",
              "      const reader = new FileReader();\n",
              "      reader.onload = (e) => {\n",
              "        resolve(e.target.result);\n",
              "      };\n",
              "      reader.readAsArrayBuffer(file);\n",
              "    });\n",
              "    // Wait for the data to be ready.\n",
              "    let fileData = yield {\n",
              "      promise: fileDataPromise,\n",
              "      response: {\n",
              "        action: 'continue',\n",
              "      }\n",
              "    };\n",
              "\n",
              "    // Use a chunked sending to avoid message size limits. See b/62115660.\n",
              "    let position = 0;\n",
              "    do {\n",
              "      const length = Math.min(fileData.byteLength - position, MAX_PAYLOAD_SIZE);\n",
              "      const chunk = new Uint8Array(fileData, position, length);\n",
              "      position += length;\n",
              "\n",
              "      const base64 = btoa(String.fromCharCode.apply(null, chunk));\n",
              "      yield {\n",
              "        response: {\n",
              "          action: 'append',\n",
              "          file: file.name,\n",
              "          data: base64,\n",
              "        },\n",
              "      };\n",
              "\n",
              "      let percentDone = fileData.byteLength === 0 ?\n",
              "          100 :\n",
              "          Math.round((position / fileData.byteLength) * 100);\n",
              "      percent.textContent = `${percentDone}% done`;\n",
              "\n",
              "    } while (position < fileData.byteLength);\n",
              "  }\n",
              "\n",
              "  // All done.\n",
              "  yield {\n",
              "    response: {\n",
              "      action: 'complete',\n",
              "    }\n",
              "  };\n",
              "}\n",
              "\n",
              "scope.google = scope.google || {};\n",
              "scope.google.colab = scope.google.colab || {};\n",
              "scope.google.colab._files = {\n",
              "  _uploadFiles,\n",
              "  _uploadFilesContinue,\n",
              "};\n",
              "})(self);\n",
              "</script> "
            ]
          },
          "metadata": {}
        },
        {
          "output_type": "stream",
          "name": "stdout",
          "text": [
            "Saving kaggle.json to kaggle.json\n"
          ]
        }
      ]
    },
    {
      "cell_type": "code",
      "source": [
        "import os\n",
        "os.environ['KAGGLE_CONFIG_DIR'] = \"/content/\"\n"
      ],
      "metadata": {
        "id": "qIHcX7mVOyUL"
      },
      "execution_count": 21,
      "outputs": []
    },
    {
      "cell_type": "code",
      "source": [
        "!pip install kaggle\n",
        "!kaggle competitions download -c spooky-author-identification\n"
      ],
      "metadata": {
        "colab": {
          "base_uri": "https://localhost:8080/"
        },
        "id": "g_XTMChNPAvY",
        "outputId": "0ff7bdfa-5c2a-416b-c354-d7cdb6164051"
      },
      "execution_count": 22,
      "outputs": [
        {
          "output_type": "stream",
          "name": "stdout",
          "text": [
            "Requirement already satisfied: kaggle in /usr/local/lib/python3.10/dist-packages (1.6.17)\n",
            "Requirement already satisfied: six>=1.10 in /usr/local/lib/python3.10/dist-packages (from kaggle) (1.16.0)\n",
            "Requirement already satisfied: certifi>=2023.7.22 in /usr/local/lib/python3.10/dist-packages (from kaggle) (2024.8.30)\n",
            "Requirement already satisfied: python-dateutil in /usr/local/lib/python3.10/dist-packages (from kaggle) (2.8.2)\n",
            "Requirement already satisfied: requests in /usr/local/lib/python3.10/dist-packages (from kaggle) (2.32.3)\n",
            "Requirement already satisfied: tqdm in /usr/local/lib/python3.10/dist-packages (from kaggle) (4.66.6)\n",
            "Requirement already satisfied: python-slugify in /usr/local/lib/python3.10/dist-packages (from kaggle) (8.0.4)\n",
            "Requirement already satisfied: urllib3 in /usr/local/lib/python3.10/dist-packages (from kaggle) (2.2.3)\n",
            "Requirement already satisfied: bleach in /usr/local/lib/python3.10/dist-packages (from kaggle) (6.2.0)\n",
            "Requirement already satisfied: webencodings in /usr/local/lib/python3.10/dist-packages (from bleach->kaggle) (0.5.1)\n",
            "Requirement already satisfied: text-unidecode>=1.3 in /usr/local/lib/python3.10/dist-packages (from python-slugify->kaggle) (1.3)\n",
            "Requirement already satisfied: charset-normalizer<4,>=2 in /usr/local/lib/python3.10/dist-packages (from requests->kaggle) (3.4.0)\n",
            "Requirement already satisfied: idna<4,>=2.5 in /usr/local/lib/python3.10/dist-packages (from requests->kaggle) (3.10)\n",
            "Warning: Your Kaggle API key is readable by other users on this system! To fix this, you can run 'chmod 600 /content/kaggle.json'\n",
            "Downloading spooky-author-identification.zip to /content\n",
            "  0% 0.00/1.81M [00:00<?, ?B/s]\n",
            "100% 1.81M/1.81M [00:00<00:00, 147MB/s]\n"
          ]
        }
      ]
    },
    {
      "cell_type": "code",
      "source": [
        "import zipfile\n",
        "\n",
        "with zipfile.ZipFile('spooky-author-identification.zip', 'r') as zip_ref:\n",
        "    zip_ref.extractall('Datasets')\n"
      ],
      "metadata": {
        "id": "Ku8rtNCfPO-A"
      },
      "execution_count": 23,
      "outputs": []
    },
    {
      "cell_type": "code",
      "source": [
        "# Step 1: Import necessary libraries\n",
        "from google.colab import files\n",
        "import os\n",
        "import shutil\n",
        "\n",
        "# Step 2: Upload files\n",
        "uploaded = files.upload()  # Choose train.csv and test.csv when prompted\n",
        "\n",
        "# Step 3: Create a folder named 'Datasets'\n",
        "os.makedirs('Datasets', exist_ok=True)  # This creates the folder if it doesn't exist\n",
        "\n",
        "# Step 4: Move the uploaded files to the 'Datasets' folder\n",
        "for filename in uploaded.keys():\n",
        "    shutil.move(filename, f'Datasets/{filename}')  # Move each uploaded file to the Datasets folder\n",
        "\n",
        "# Step 5: Check that the files are now in the 'Datasets' folder\n",
        "print(\"Files moved to 'Datasets' folder:\")\n",
        "print(os.listdir('Datasets'))  # List the files in the Datasets folder\n"
      ],
      "metadata": {
        "colab": {
          "base_uri": "https://localhost:8080/",
          "height": 109
        },
        "id": "MFCuMSZ9P-7U",
        "outputId": "f08b6673-c10d-4106-d746-4d842e279eff"
      },
      "execution_count": 24,
      "outputs": [
        {
          "output_type": "display_data",
          "data": {
            "text/plain": [
              "<IPython.core.display.HTML object>"
            ],
            "text/html": [
              "\n",
              "     <input type=\"file\" id=\"files-dabe71a5-56af-4a06-a4f8-bcaf63b54612\" name=\"files[]\" multiple disabled\n",
              "        style=\"border:none\" />\n",
              "     <output id=\"result-dabe71a5-56af-4a06-a4f8-bcaf63b54612\">\n",
              "      Upload widget is only available when the cell has been executed in the\n",
              "      current browser session. Please rerun this cell to enable.\n",
              "      </output>\n",
              "      <script>// Copyright 2017 Google LLC\n",
              "//\n",
              "// Licensed under the Apache License, Version 2.0 (the \"License\");\n",
              "// you may not use this file except in compliance with the License.\n",
              "// You may obtain a copy of the License at\n",
              "//\n",
              "//      http://www.apache.org/licenses/LICENSE-2.0\n",
              "//\n",
              "// Unless required by applicable law or agreed to in writing, software\n",
              "// distributed under the License is distributed on an \"AS IS\" BASIS,\n",
              "// WITHOUT WARRANTIES OR CONDITIONS OF ANY KIND, either express or implied.\n",
              "// See the License for the specific language governing permissions and\n",
              "// limitations under the License.\n",
              "\n",
              "/**\n",
              " * @fileoverview Helpers for google.colab Python module.\n",
              " */\n",
              "(function(scope) {\n",
              "function span(text, styleAttributes = {}) {\n",
              "  const element = document.createElement('span');\n",
              "  element.textContent = text;\n",
              "  for (const key of Object.keys(styleAttributes)) {\n",
              "    element.style[key] = styleAttributes[key];\n",
              "  }\n",
              "  return element;\n",
              "}\n",
              "\n",
              "// Max number of bytes which will be uploaded at a time.\n",
              "const MAX_PAYLOAD_SIZE = 100 * 1024;\n",
              "\n",
              "function _uploadFiles(inputId, outputId) {\n",
              "  const steps = uploadFilesStep(inputId, outputId);\n",
              "  const outputElement = document.getElementById(outputId);\n",
              "  // Cache steps on the outputElement to make it available for the next call\n",
              "  // to uploadFilesContinue from Python.\n",
              "  outputElement.steps = steps;\n",
              "\n",
              "  return _uploadFilesContinue(outputId);\n",
              "}\n",
              "\n",
              "// This is roughly an async generator (not supported in the browser yet),\n",
              "// where there are multiple asynchronous steps and the Python side is going\n",
              "// to poll for completion of each step.\n",
              "// This uses a Promise to block the python side on completion of each step,\n",
              "// then passes the result of the previous step as the input to the next step.\n",
              "function _uploadFilesContinue(outputId) {\n",
              "  const outputElement = document.getElementById(outputId);\n",
              "  const steps = outputElement.steps;\n",
              "\n",
              "  const next = steps.next(outputElement.lastPromiseValue);\n",
              "  return Promise.resolve(next.value.promise).then((value) => {\n",
              "    // Cache the last promise value to make it available to the next\n",
              "    // step of the generator.\n",
              "    outputElement.lastPromiseValue = value;\n",
              "    return next.value.response;\n",
              "  });\n",
              "}\n",
              "\n",
              "/**\n",
              " * Generator function which is called between each async step of the upload\n",
              " * process.\n",
              " * @param {string} inputId Element ID of the input file picker element.\n",
              " * @param {string} outputId Element ID of the output display.\n",
              " * @return {!Iterable<!Object>} Iterable of next steps.\n",
              " */\n",
              "function* uploadFilesStep(inputId, outputId) {\n",
              "  const inputElement = document.getElementById(inputId);\n",
              "  inputElement.disabled = false;\n",
              "\n",
              "  const outputElement = document.getElementById(outputId);\n",
              "  outputElement.innerHTML = '';\n",
              "\n",
              "  const pickedPromise = new Promise((resolve) => {\n",
              "    inputElement.addEventListener('change', (e) => {\n",
              "      resolve(e.target.files);\n",
              "    });\n",
              "  });\n",
              "\n",
              "  const cancel = document.createElement('button');\n",
              "  inputElement.parentElement.appendChild(cancel);\n",
              "  cancel.textContent = 'Cancel upload';\n",
              "  const cancelPromise = new Promise((resolve) => {\n",
              "    cancel.onclick = () => {\n",
              "      resolve(null);\n",
              "    };\n",
              "  });\n",
              "\n",
              "  // Wait for the user to pick the files.\n",
              "  const files = yield {\n",
              "    promise: Promise.race([pickedPromise, cancelPromise]),\n",
              "    response: {\n",
              "      action: 'starting',\n",
              "    }\n",
              "  };\n",
              "\n",
              "  cancel.remove();\n",
              "\n",
              "  // Disable the input element since further picks are not allowed.\n",
              "  inputElement.disabled = true;\n",
              "\n",
              "  if (!files) {\n",
              "    return {\n",
              "      response: {\n",
              "        action: 'complete',\n",
              "      }\n",
              "    };\n",
              "  }\n",
              "\n",
              "  for (const file of files) {\n",
              "    const li = document.createElement('li');\n",
              "    li.append(span(file.name, {fontWeight: 'bold'}));\n",
              "    li.append(span(\n",
              "        `(${file.type || 'n/a'}) - ${file.size} bytes, ` +\n",
              "        `last modified: ${\n",
              "            file.lastModifiedDate ? file.lastModifiedDate.toLocaleDateString() :\n",
              "                                    'n/a'} - `));\n",
              "    const percent = span('0% done');\n",
              "    li.appendChild(percent);\n",
              "\n",
              "    outputElement.appendChild(li);\n",
              "\n",
              "    const fileDataPromise = new Promise((resolve) => {\n",
              "      const reader = new FileReader();\n",
              "      reader.onload = (e) => {\n",
              "        resolve(e.target.result);\n",
              "      };\n",
              "      reader.readAsArrayBuffer(file);\n",
              "    });\n",
              "    // Wait for the data to be ready.\n",
              "    let fileData = yield {\n",
              "      promise: fileDataPromise,\n",
              "      response: {\n",
              "        action: 'continue',\n",
              "      }\n",
              "    };\n",
              "\n",
              "    // Use a chunked sending to avoid message size limits. See b/62115660.\n",
              "    let position = 0;\n",
              "    do {\n",
              "      const length = Math.min(fileData.byteLength - position, MAX_PAYLOAD_SIZE);\n",
              "      const chunk = new Uint8Array(fileData, position, length);\n",
              "      position += length;\n",
              "\n",
              "      const base64 = btoa(String.fromCharCode.apply(null, chunk));\n",
              "      yield {\n",
              "        response: {\n",
              "          action: 'append',\n",
              "          file: file.name,\n",
              "          data: base64,\n",
              "        },\n",
              "      };\n",
              "\n",
              "      let percentDone = fileData.byteLength === 0 ?\n",
              "          100 :\n",
              "          Math.round((position / fileData.byteLength) * 100);\n",
              "      percent.textContent = `${percentDone}% done`;\n",
              "\n",
              "    } while (position < fileData.byteLength);\n",
              "  }\n",
              "\n",
              "  // All done.\n",
              "  yield {\n",
              "    response: {\n",
              "      action: 'complete',\n",
              "    }\n",
              "  };\n",
              "}\n",
              "\n",
              "scope.google = scope.google || {};\n",
              "scope.google.colab = scope.google.colab || {};\n",
              "scope.google.colab._files = {\n",
              "  _uploadFiles,\n",
              "  _uploadFilesContinue,\n",
              "};\n",
              "})(self);\n",
              "</script> "
            ]
          },
          "metadata": {}
        },
        {
          "output_type": "stream",
          "name": "stdout",
          "text": [
            "Saving spooky-author-identification.zip to spooky-author-identification (1).zip\n",
            "Files moved to 'Datasets' folder:\n",
            "['train.zip', 'spooky-author-identification (1).zip', 'sample_submission.zip', 'test.zip']\n"
          ]
        }
      ]
    },
    {
      "cell_type": "code",
      "source": [
        "import zipfile\n",
        "\n",
        "# Step 1: Extract train.zip\n",
        "with zipfile.ZipFile('Datasets/train.zip', 'r') as zip_ref:\n",
        "    zip_ref.extractall('Datasets/train')\n",
        "\n",
        "# Step 2: Extract test.zip\n",
        "with zipfile.ZipFile('Datasets/test.zip', 'r') as zip_ref:\n",
        "    zip_ref.extractall('Datasets/test')\n",
        "\n",
        "# Step 3: Check the extracted files\n",
        "print(\"Train Files:\", os.listdir('Datasets/train'))\n",
        "print(\"Test Files:\", os.listdir('Datasets/test'))\n",
        "\n",
        "# Step 4: Create a Spark session\n",
        "from pyspark.sql import SparkSession\n",
        "from pyspark.sql import functions as F\n",
        "from pyspark.ml.feature import Tokenizer\n",
        "from pyspark.ml.feature import StopWordsRemover\n",
        "from pyspark.ml.classification import LogisticRegression\n",
        "from pyspark.ml.evaluation import MulticlassClassificationEvaluator\n",
        "\n",
        "spark = SparkSession.builder.appName(\"SpookyAuthorIdentification\").getOrCreate()\n",
        "\n",
        "# Step 5: Load training data into a DataFrame\n",
        "try:\n",
        "    train_df = spark.read.csv('Datasets/train/train.csv', header=True, inferSchema=True)\n",
        "    train_df.printSchema()\n",
        "    train_df.show(5)\n",
        "except Exception as e:\n",
        "    print(\"Error loading the CSV file:\", e)\n",
        "\n",
        "# Step 6: Load test data into a DataFrame\n",
        "try:\n",
        "    test_df = spark.read.csv('Datasets/test/test.csv', header=True, inferSchema=True)\n",
        "    test_df.printSchema()\n",
        "    test_df.show(5)\n",
        "except Exception as e:\n",
        "    print(\"Error loading the CSV file:\", e)\n"
      ],
      "metadata": {
        "colab": {
          "base_uri": "https://localhost:8080/"
        },
        "id": "--z3iv4nQXxc",
        "outputId": "9c253dd6-1220-46dd-9bc2-042109152fa4"
      },
      "execution_count": 25,
      "outputs": [
        {
          "output_type": "stream",
          "name": "stdout",
          "text": [
            "Train Files: ['train.csv']\n",
            "Test Files: ['test.csv']\n",
            "root\n",
            " |-- id: string (nullable = true)\n",
            " |-- text: string (nullable = true)\n",
            " |-- author: string (nullable = true)\n",
            "\n",
            "+-------+--------------------+------+\n",
            "|     id|                text|author|\n",
            "+-------+--------------------+------+\n",
            "|id26305|This process, how...|   EAP|\n",
            "|id17569|It never once occ...|   HPL|\n",
            "|id11008|In his left hand ...|   EAP|\n",
            "|id27763|How lovely is spr...|   MWS|\n",
            "|id12958|Finding nothing e...|   HPL|\n",
            "+-------+--------------------+------+\n",
            "only showing top 5 rows\n",
            "\n",
            "root\n",
            " |-- id: string (nullable = true)\n",
            " |-- text: string (nullable = true)\n",
            "\n",
            "+-------+--------------------+\n",
            "|     id|                text|\n",
            "+-------+--------------------+\n",
            "|id02310|Still, as I urged...|\n",
            "|id24541|If a fire wanted ...|\n",
            "|id00134|And when they had...|\n",
            "|id27757|While I was think...|\n",
            "|id04081|I am not sure to ...|\n",
            "+-------+--------------------+\n",
            "only showing top 5 rows\n",
            "\n"
          ]
        }
      ]
    },
    {
      "cell_type": "code",
      "source": [
        "#Print num rows and cols in the training set\n",
        "train_row_count = train_df.count()\n",
        "train_column_count = len(train_df.columns)\n",
        "print(f\"Training Data - Rows: {train_row_count}, Columns: {train_column_count}\")"
      ],
      "metadata": {
        "colab": {
          "base_uri": "https://localhost:8080/"
        },
        "id": "-ZI4ossZRCIx",
        "outputId": "7e629016-e4a4-400c-d768-c5bf460c5936"
      },
      "execution_count": 26,
      "outputs": [
        {
          "output_type": "stream",
          "name": "stdout",
          "text": [
            "Training Data - Rows: 19579, Columns: 3\n"
          ]
        }
      ]
    },
    {
      "cell_type": "code",
      "source": [
        "#Print num rows and cols in the test set\n",
        "test_row_count = test_df.count()\n",
        "test_column_count = len(test_df.columns)\n",
        "print(f\"Test Data - Rows: {test_row_count}, Columns: {test_column_count}\")"
      ],
      "metadata": {
        "colab": {
          "base_uri": "https://localhost:8080/"
        },
        "id": "112zxjTBRJKY",
        "outputId": "76518698-45b0-4810-f01c-5658770909ad"
      },
      "execution_count": 27,
      "outputs": [
        {
          "output_type": "stream",
          "name": "stdout",
          "text": [
            "Test Data - Rows: 8392, Columns: 2\n"
          ]
        }
      ]
    },
    {
      "cell_type": "code",
      "source": [
        "#Check for missing values (There are none)\n",
        "train_df.select([F.count(F.when(F.col(c).isNull(), c)).alias(c) for c in train_df.columns]).show()\n",
        "test_df.select([F.count(F.when(F.col(c).isNull(), c)).alias(c) for c in test_df.columns]).show()"
      ],
      "metadata": {
        "colab": {
          "base_uri": "https://localhost:8080/"
        },
        "id": "6ZRjBKyuRO4t",
        "outputId": "84fe8322-a2b9-41ae-8a5b-a18199ee9456"
      },
      "execution_count": 28,
      "outputs": [
        {
          "output_type": "stream",
          "name": "stdout",
          "text": [
            "+---+----+------+\n",
            "| id|text|author|\n",
            "+---+----+------+\n",
            "|  0|   0|     0|\n",
            "+---+----+------+\n",
            "\n",
            "+---+----+\n",
            "| id|text|\n",
            "+---+----+\n",
            "|  0|   0|\n",
            "+---+----+\n",
            "\n"
          ]
        }
      ]
    },
    {
      "cell_type": "code",
      "source": [
        "#Create sentence length column\n",
        "train_df = train_df.withColumn(\"sentence_length\", F.length(F.col(\"text\")))\n",
        "train_df.select(\"sentence_length\").describe().show()"
      ],
      "metadata": {
        "colab": {
          "base_uri": "https://localhost:8080/"
        },
        "id": "sn7EvJAART9J",
        "outputId": "36fa8ebe-e70c-4aba-9be9-01a5499d04ff"
      },
      "execution_count": 29,
      "outputs": [
        {
          "output_type": "stream",
          "name": "stdout",
          "text": [
            "+-------+------------------+\n",
            "|summary|   sentence_length|\n",
            "+-------+------------------+\n",
            "|  count|             19579|\n",
            "|   mean|139.99765054395016|\n",
            "| stddev|101.25452331007808|\n",
            "|    min|                 5|\n",
            "|    max|              3682|\n",
            "+-------+------------------+\n",
            "\n"
          ]
        }
      ]
    },
    {
      "cell_type": "code",
      "source": [
        "#Use tokenizer to tokenize the text\n",
        "tokenizer = Tokenizer(inputCol=\"text\", outputCol=\"words\")\n",
        "tokenized_train_df = tokenizer.transform(train_df)\n",
        "\n",
        "#Print tokenized output\n",
        "tokenized_train_df.select(\"text\", \"words\").show(5, truncate=False)"
      ],
      "metadata": {
        "colab": {
          "base_uri": "https://localhost:8080/"
        },
        "id": "2I9ndt8GRZNy",
        "outputId": "acfabebe-385e-4d25-9395-6b8a7617fa02"
      },
      "execution_count": 30,
      "outputs": [
        {
          "output_type": "stream",
          "name": "stdout",
          "text": [
            "+---------------------------------------------------------------------------------------------------------------------------------------------------------------------------------------------------------------------------------------+---------------------------------------------------------------------------------------------------------------------------------------------------------------------------------------------------------------------------------------------------------------------------------+\n",
            "|text                                                                                                                                                                                                                                   |words                                                                                                                                                                                                                                                                            |\n",
            "+---------------------------------------------------------------------------------------------------------------------------------------------------------------------------------------------------------------------------------------+---------------------------------------------------------------------------------------------------------------------------------------------------------------------------------------------------------------------------------------------------------------------------------+\n",
            "|This process, however, afforded me no means of ascertaining the dimensions of my dungeon; as I might make its circuit, and return to the point whence I set out, without being aware of the fact; so perfectly uniform seemed the wall.|[this, process,, however,, afforded, me, no, means, of, ascertaining, the, dimensions, of, my, dungeon;, as, i, might, make, its, circuit,, and, return, to, the, point, whence, i, set, out,, without, being, aware, of, the, fact;, so, perfectly, uniform, seemed, the, wall.]|\n",
            "|It never once occurred to me that the fumbling might be a mere mistake.                                                                                                                                                                |[it, never, once, occurred, to, me, that, the, fumbling, might, be, a, mere, mistake.]                                                                                                                                                                                           |\n",
            "|In his left hand was a gold snuff box, from which, as he capered down the hill, cutting all manner of fantastic steps, he took snuff incessantly with an air of the greatest possible self satisfaction.                               |[in, his, left, hand, was, a, gold, snuff, box,, from, which,, as, he, capered, down, the, hill,, cutting, all, manner, of, fantastic, steps,, he, took, snuff, incessantly, with, an, air, of, the, greatest, possible, self, satisfaction.]                                    |\n",
            "|How lovely is spring As we looked from Windsor Terrace on the sixteen fertile counties spread beneath, speckled by happy cottages and wealthier towns, all looked as in former years, heart cheering and fair.                         |[how, lovely, is, spring, as, we, looked, from, windsor, terrace, on, the, sixteen, fertile, counties, spread, beneath,, speckled, by, happy, cottages, and, wealthier, towns,, all, looked, as, in, former, years,, heart, cheering, and, fair.]                                |\n",
            "|Finding nothing else, not even gold, the Superintendent abandoned his attempts; but a perplexed look occasionally steals over his countenance as he sits thinking at his desk.                                                         |[finding, nothing, else,, not, even, gold,, the, superintendent, abandoned, his, attempts;, but, a, perplexed, look, occasionally, steals, over, his, countenance, as, he, sits, thinking, at, his, desk.]                                                                       |\n",
            "+---------------------------------------------------------------------------------------------------------------------------------------------------------------------------------------------------------------------------------------+---------------------------------------------------------------------------------------------------------------------------------------------------------------------------------------------------------------------------------------------------------------------------------+\n",
            "only showing top 5 rows\n",
            "\n"
          ]
        }
      ]
    },
    {
      "cell_type": "code",
      "source": [
        "#Create an instance of StopWordsRemover and use it to filter the tokens and remove stop words\n",
        "#The new filtered tokens are placed in a new column \"filtered_words\"\n",
        "remover = StopWordsRemover(inputCol=\"words\", outputCol=\"filtered_words\")\n",
        "cleaned_train_df = remover.transform(tokenized_train_df)\n",
        "\n",
        "#Print the cleaned output\n",
        "cleaned_train_df.select(\"words\", \"filtered_words\").show(5, truncate=False)"
      ],
      "metadata": {
        "colab": {
          "base_uri": "https://localhost:8080/"
        },
        "id": "JdJdBfILRaBF",
        "outputId": "b16c61d7-0d30-469e-c204-3c52c9231f41"
      },
      "execution_count": 31,
      "outputs": [
        {
          "output_type": "stream",
          "name": "stdout",
          "text": [
            "+---------------------------------------------------------------------------------------------------------------------------------------------------------------------------------------------------------------------------------------------------------------------------------+--------------------------------------------------------------------------------------------------------------------------------------------------------------------------------------------+\n",
            "|words                                                                                                                                                                                                                                                                            |filtered_words                                                                                                                                                                              |\n",
            "+---------------------------------------------------------------------------------------------------------------------------------------------------------------------------------------------------------------------------------------------------------------------------------+--------------------------------------------------------------------------------------------------------------------------------------------------------------------------------------------+\n",
            "|[this, process,, however,, afforded, me, no, means, of, ascertaining, the, dimensions, of, my, dungeon;, as, i, might, make, its, circuit,, and, return, to, the, point, whence, i, set, out,, without, being, aware, of, the, fact;, so, perfectly, uniform, seemed, the, wall.]|[process,, however,, afforded, means, ascertaining, dimensions, dungeon;, might, make, circuit,, return, point, whence, set, out,, without, aware, fact;, perfectly, uniform, seemed, wall.]|\n",
            "|[it, never, once, occurred, to, me, that, the, fumbling, might, be, a, mere, mistake.]                                                                                                                                                                                           |[never, occurred, fumbling, might, mere, mistake.]                                                                                                                                          |\n",
            "|[in, his, left, hand, was, a, gold, snuff, box,, from, which,, as, he, capered, down, the, hill,, cutting, all, manner, of, fantastic, steps,, he, took, snuff, incessantly, with, an, air, of, the, greatest, possible, self, satisfaction.]                                    |[left, hand, gold, snuff, box,, which,, capered, hill,, cutting, manner, fantastic, steps,, took, snuff, incessantly, air, greatest, possible, self, satisfaction.]                         |\n",
            "|[how, lovely, is, spring, as, we, looked, from, windsor, terrace, on, the, sixteen, fertile, counties, spread, beneath,, speckled, by, happy, cottages, and, wealthier, towns,, all, looked, as, in, former, years,, heart, cheering, and, fair.]                                |[lovely, spring, looked, windsor, terrace, sixteen, fertile, counties, spread, beneath,, speckled, happy, cottages, wealthier, towns,, looked, former, years,, heart, cheering, fair.]      |\n",
            "|[finding, nothing, else,, not, even, gold,, the, superintendent, abandoned, his, attempts;, but, a, perplexed, look, occasionally, steals, over, his, countenance, as, he, sits, thinking, at, his, desk.]                                                                       |[finding, nothing, else,, even, gold,, superintendent, abandoned, attempts;, perplexed, look, occasionally, steals, countenance, sits, thinking, desk.]                                     |\n",
            "+---------------------------------------------------------------------------------------------------------------------------------------------------------------------------------------------------------------------------------------------------------------------------------+--------------------------------------------------------------------------------------------------------------------------------------------------------------------------------------------+\n",
            "only showing top 5 rows\n",
            "\n"
          ]
        }
      ]
    },
    {
      "cell_type": "markdown",
      "source": [
        "# Satge 2 Feature Extraction:\n",
        "we will convert the cleaned text into numerical features using TF-IDF (Term Frequency-Inverse Document Frequency)."
      ],
      "metadata": {
        "id": "xH4BaNwvRz0x"
      }
    },
    {
      "cell_type": "code",
      "source": [
        "# Step 1: Install necessary libraries\n",
        "!pip install --upgrade pyspark\n",
        "\n",
        "# Step 2: Import necessary modules\n",
        "from pyspark.sql import SparkSession\n",
        "from pyspark.ml.feature import Tokenizer, StopWordsRemover, CountVectorizer, IDF, Normalizer\n",
        "from pyspark.ml import Pipeline\n",
        "from google.colab import files\n",
        "from pyspark.ml.classification import LogisticRegression\n",
        "from pyspark.ml.evaluation import MulticlassClassificationEvaluator\n",
        "\n",
        "## encoding authors\n",
        "\n",
        "\n",
        "# Step 3: Upload your CSV file\n",
        "uploaded = files.upload()\n",
        "\n",
        "# Step 4: Initialize Spark session\n",
        "spark = SparkSession.builder.appName(\"TextProcessing\").getOrCreate()\n",
        "\n",
        "# Step 5: Load training data from the uploaded file\n",
        "train_df = spark.read.csv(\"train.csv\", header=True, inferSchema=True)\n",
        "\n",
        "# Step 6: Tokenization\n",
        "tokenizer = Tokenizer(inputCol=\"text\", outputCol=\"tokens\")\n",
        "tokens_df = tokenizer.transform(train_df)\n",
        "\n",
        "# Step 7: Stop words removal\n",
        "remover = StopWordsRemover(inputCol=\"tokens\", outputCol=\"filtered_tokens\")\n",
        "filtered_df = remover.transform(tokens_df)\n",
        "\n",
        "# Step 8: TF-IDF calculation using CountVectorizer\n",
        "vectorizer = CountVectorizer(inputCol=\"filtered_tokens\", outputCol=\"vectorized_tokens\")\n",
        "idf = IDF(inputCol=\"vectorized_tokens\", outputCol=\"tfidf\")\n",
        "\n",
        "# Step 9: Normalization\n",
        "normalizer = Normalizer(inputCol=\"tfidf\", outputCol=\"normalized_features\")\n",
        "\n",
        "# Step 10: Create and apply pipeline\n",
        "pipeline = Pipeline(stages=[tokenizer, remover, vectorizer, idf, normalizer])\n",
        "processed_data = pipeline.fit(train_df).transform(train_df)\n",
        "\n",
        "# Step 11: Show the final processed DataFrame with normalized features\n",
        "processed_data.select(\"normalized_features\").show(truncate=False)\n"
      ],
      "metadata": {
        "colab": {
          "base_uri": "https://localhost:8080/",
          "height": 594
        },
        "id": "w7zkInX5ziok",
        "outputId": "3ab94104-5d0e-4c63-b2b4-6f55bcaa37d4"
      },
      "execution_count": 32,
      "outputs": [
        {
          "output_type": "stream",
          "name": "stdout",
          "text": [
            "Requirement already satisfied: pyspark in /usr/local/lib/python3.10/dist-packages (3.5.3)\n",
            "Requirement already satisfied: py4j==0.10.9.7 in /usr/local/lib/python3.10/dist-packages (from pyspark) (0.10.9.7)\n"
          ]
        },
        {
          "output_type": "display_data",
          "data": {
            "text/plain": [
              "<IPython.core.display.HTML object>"
            ],
            "text/html": [
              "\n",
              "     <input type=\"file\" id=\"files-e810689e-9d30-400d-ba95-164b2d5f7865\" name=\"files[]\" multiple disabled\n",
              "        style=\"border:none\" />\n",
              "     <output id=\"result-e810689e-9d30-400d-ba95-164b2d5f7865\">\n",
              "      Upload widget is only available when the cell has been executed in the\n",
              "      current browser session. Please rerun this cell to enable.\n",
              "      </output>\n",
              "      <script>// Copyright 2017 Google LLC\n",
              "//\n",
              "// Licensed under the Apache License, Version 2.0 (the \"License\");\n",
              "// you may not use this file except in compliance with the License.\n",
              "// You may obtain a copy of the License at\n",
              "//\n",
              "//      http://www.apache.org/licenses/LICENSE-2.0\n",
              "//\n",
              "// Unless required by applicable law or agreed to in writing, software\n",
              "// distributed under the License is distributed on an \"AS IS\" BASIS,\n",
              "// WITHOUT WARRANTIES OR CONDITIONS OF ANY KIND, either express or implied.\n",
              "// See the License for the specific language governing permissions and\n",
              "// limitations under the License.\n",
              "\n",
              "/**\n",
              " * @fileoverview Helpers for google.colab Python module.\n",
              " */\n",
              "(function(scope) {\n",
              "function span(text, styleAttributes = {}) {\n",
              "  const element = document.createElement('span');\n",
              "  element.textContent = text;\n",
              "  for (const key of Object.keys(styleAttributes)) {\n",
              "    element.style[key] = styleAttributes[key];\n",
              "  }\n",
              "  return element;\n",
              "}\n",
              "\n",
              "// Max number of bytes which will be uploaded at a time.\n",
              "const MAX_PAYLOAD_SIZE = 100 * 1024;\n",
              "\n",
              "function _uploadFiles(inputId, outputId) {\n",
              "  const steps = uploadFilesStep(inputId, outputId);\n",
              "  const outputElement = document.getElementById(outputId);\n",
              "  // Cache steps on the outputElement to make it available for the next call\n",
              "  // to uploadFilesContinue from Python.\n",
              "  outputElement.steps = steps;\n",
              "\n",
              "  return _uploadFilesContinue(outputId);\n",
              "}\n",
              "\n",
              "// This is roughly an async generator (not supported in the browser yet),\n",
              "// where there are multiple asynchronous steps and the Python side is going\n",
              "// to poll for completion of each step.\n",
              "// This uses a Promise to block the python side on completion of each step,\n",
              "// then passes the result of the previous step as the input to the next step.\n",
              "function _uploadFilesContinue(outputId) {\n",
              "  const outputElement = document.getElementById(outputId);\n",
              "  const steps = outputElement.steps;\n",
              "\n",
              "  const next = steps.next(outputElement.lastPromiseValue);\n",
              "  return Promise.resolve(next.value.promise).then((value) => {\n",
              "    // Cache the last promise value to make it available to the next\n",
              "    // step of the generator.\n",
              "    outputElement.lastPromiseValue = value;\n",
              "    return next.value.response;\n",
              "  });\n",
              "}\n",
              "\n",
              "/**\n",
              " * Generator function which is called between each async step of the upload\n",
              " * process.\n",
              " * @param {string} inputId Element ID of the input file picker element.\n",
              " * @param {string} outputId Element ID of the output display.\n",
              " * @return {!Iterable<!Object>} Iterable of next steps.\n",
              " */\n",
              "function* uploadFilesStep(inputId, outputId) {\n",
              "  const inputElement = document.getElementById(inputId);\n",
              "  inputElement.disabled = false;\n",
              "\n",
              "  const outputElement = document.getElementById(outputId);\n",
              "  outputElement.innerHTML = '';\n",
              "\n",
              "  const pickedPromise = new Promise((resolve) => {\n",
              "    inputElement.addEventListener('change', (e) => {\n",
              "      resolve(e.target.files);\n",
              "    });\n",
              "  });\n",
              "\n",
              "  const cancel = document.createElement('button');\n",
              "  inputElement.parentElement.appendChild(cancel);\n",
              "  cancel.textContent = 'Cancel upload';\n",
              "  const cancelPromise = new Promise((resolve) => {\n",
              "    cancel.onclick = () => {\n",
              "      resolve(null);\n",
              "    };\n",
              "  });\n",
              "\n",
              "  // Wait for the user to pick the files.\n",
              "  const files = yield {\n",
              "    promise: Promise.race([pickedPromise, cancelPromise]),\n",
              "    response: {\n",
              "      action: 'starting',\n",
              "    }\n",
              "  };\n",
              "\n",
              "  cancel.remove();\n",
              "\n",
              "  // Disable the input element since further picks are not allowed.\n",
              "  inputElement.disabled = true;\n",
              "\n",
              "  if (!files) {\n",
              "    return {\n",
              "      response: {\n",
              "        action: 'complete',\n",
              "      }\n",
              "    };\n",
              "  }\n",
              "\n",
              "  for (const file of files) {\n",
              "    const li = document.createElement('li');\n",
              "    li.append(span(file.name, {fontWeight: 'bold'}));\n",
              "    li.append(span(\n",
              "        `(${file.type || 'n/a'}) - ${file.size} bytes, ` +\n",
              "        `last modified: ${\n",
              "            file.lastModifiedDate ? file.lastModifiedDate.toLocaleDateString() :\n",
              "                                    'n/a'} - `));\n",
              "    const percent = span('0% done');\n",
              "    li.appendChild(percent);\n",
              "\n",
              "    outputElement.appendChild(li);\n",
              "\n",
              "    const fileDataPromise = new Promise((resolve) => {\n",
              "      const reader = new FileReader();\n",
              "      reader.onload = (e) => {\n",
              "        resolve(e.target.result);\n",
              "      };\n",
              "      reader.readAsArrayBuffer(file);\n",
              "    });\n",
              "    // Wait for the data to be ready.\n",
              "    let fileData = yield {\n",
              "      promise: fileDataPromise,\n",
              "      response: {\n",
              "        action: 'continue',\n",
              "      }\n",
              "    };\n",
              "\n",
              "    // Use a chunked sending to avoid message size limits. See b/62115660.\n",
              "    let position = 0;\n",
              "    do {\n",
              "      const length = Math.min(fileData.byteLength - position, MAX_PAYLOAD_SIZE);\n",
              "      const chunk = new Uint8Array(fileData, position, length);\n",
              "      position += length;\n",
              "\n",
              "      const base64 = btoa(String.fromCharCode.apply(null, chunk));\n",
              "      yield {\n",
              "        response: {\n",
              "          action: 'append',\n",
              "          file: file.name,\n",
              "          data: base64,\n",
              "        },\n",
              "      };\n",
              "\n",
              "      let percentDone = fileData.byteLength === 0 ?\n",
              "          100 :\n",
              "          Math.round((position / fileData.byteLength) * 100);\n",
              "      percent.textContent = `${percentDone}% done`;\n",
              "\n",
              "    } while (position < fileData.byteLength);\n",
              "  }\n",
              "\n",
              "  // All done.\n",
              "  yield {\n",
              "    response: {\n",
              "      action: 'complete',\n",
              "    }\n",
              "  };\n",
              "}\n",
              "\n",
              "scope.google = scope.google || {};\n",
              "scope.google.colab = scope.google.colab || {};\n",
              "scope.google.colab._files = {\n",
              "  _uploadFiles,\n",
              "  _uploadFilesContinue,\n",
              "};\n",
              "})(self);\n",
              "</script> "
            ]
          },
          "metadata": {}
        },
        {
          "output_type": "stream",
          "name": "stdout",
          "text": [
            "Saving train.csv to train (6).csv\n",
            "+--------------------------------------------------------------------------------------------------------------------------------------------------------------------------------------------------------------------------------------------------------------------------------------------------------------------------------------------------------------------------------------------------------------------------------------------------------------------------------------------------------------------------------------------------------------------------------------------------------------------------------------------------------------------------------------------------------------------------------------------------------------------------------------------------------------------------------------------------------------------------------------------------------------------------------------------------------------------------------------------------------------+\n",
            "|normalized_features                                                                                                                                                                                                                                                                                                                                                                                                                                                                                                                                                                                                                                                                                                                                                                                                                                                                                                                                                                                           |\n",
            "+--------------------------------------------------------------------------------------------------------------------------------------------------------------------------------------------------------------------------------------------------------------------------------------------------------------------------------------------------------------------------------------------------------------------------------------------------------------------------------------------------------------------------------------------------------------------------------------------------------------------------------------------------------------------------------------------------------------------------------------------------------------------------------------------------------------------------------------------------------------------------------------------------------------------------------------------------------------------------------------------------------------+\n",
            "|(42876,[4,9,33,47,65,143,165,184,245,759,907,1203,1267,1817,2216,5223,6557,9058,12757,25219,27837,33477],[0.11688840343511284,0.11924395562971926,0.13352886883476572,0.13811750159578307,0.143189294678528,0.15929478101938568,0.1610968178455172,0.1630041412939829,0.16980321171340612,0.19697049765366823,0.20064331217116047,0.20754332125075856,0.20952293525468493,0.21758381304066618,0.22327708413221856,0.2509444354436734,0.25479047917680114,0.26418434329076634,0.27742425113785923,0.3000580230989174,0.3000580230989174,0.3000580230989174])                                                                                                                                                                                                                                                                                                                                                                                                                                                   |\n",
            "|(42876,[4,10,228,711,6526,10218],[0.24237646256166892,0.25067782139078415,0.3478468748901571,0.40561076796680545,0.5283262772217368,0.5601500527487364])                                                                                                                                                                                                                                                                                                                                                                                                                                                                                                                                                                                                                                                                                                                                                                                                                                                      |\n",
            "|(42876,[48,87,136,138,171,255,257,328,535,827,1210,1640,2347,3030,3612,6136,8143,12592,28110],[0.13679017481363362,0.1438461144937369,0.15532750183024022,0.1559614678114926,0.15839971558618904,0.1670766888535282,0.1670766888535282,0.17490732248969001,0.1842460743117662,0.19827647104503593,0.20443511019243615,0.21085942917064615,0.22046704838124645,0.22761081866754337,0.23425823426899048,0.5081526030085498,0.2590113177289285,0.27199197333996433,0.2941825506761749])                                                                                                                                                                                                                                                                                                                                                                                                                                                                                                                          |\n",
            "|(42876,[85,88,422,439,445,658,881,918,1145,2692,2886,5398,6933,7106,9074,9203,9225,10555,12713,15628],[0.2775566816673986,0.1390637449206782,0.17409553474714304,0.17321480565395947,0.1736520246325055,0.18222720299857872,0.18867212754784732,0.1901401869615038,0.19501719211396262,0.2172758546532394,0.21914451290495698,0.23687920427131226,0.24462557474113175,0.24462557474113175,0.24937702606959175,0.2549968002036163,0.2549968002036163,0.2549968002036163,0.2618748478678712,0.27074219355104884])                                                                                                                                                                                                                                                                                                                                                                                                                                                                                               |\n",
            "|(42876,[2,67,145,397,865,1325,1600,1781,4259,5304,6273,7524,8518,16800,21091,31192],[0.12094550189778606,0.15656627235247256,0.17208818369525247,0.19690582773638818,0.21629104761893303,0.22871228862649198,0.23634201950533185,0.23634201950533185,0.262374985725892,0.2725787080737408,0.2767563246449853,0.2814925156889739,0.28696004699283406,0.31154510825977605,0.31154510825977605,0.3259264471788692])                                                                                                                                                                                                                                                                                                                                                                                                                                                                                                                                                                                              |\n",
            "|(42876,[10,41,42,61,88,117,270,271,378,392,473,491,585,686,861,892,1122,1432,1551,1696,1765,2224,3205,4250,4359,4442,4559,7914,8475,10571,10616,11021,15160,16433,19213,22038,22726,25160,25653],[0.08547060536673715,0.096083417355227,0.09623530041505013,0.10114051904832723,0.1041560351046391,0.10890836482268652,0.12159801952045088,0.12182773426971939,0.12726965349238942,0.12786163828223213,0.130731192997807,0.13142038273893683,0.1352135062831063,0.13737266212255142,0.140781007729265,0.14131174700745786,0.14606407672550528,0.1504054772122367,0.15205518898929987,0.15292646755358308,0.15383192249986458,0.1578570695229233,0.1656249152972826,0.1707764389699562,0.1727851959594102,0.1727851959594102,0.1727851959594102,0.1867785330850288,0.1867785330850288,0.19098763440268335,0.19098763440268335,0.19098763440268335,0.20278062720010137,0.20278062720010137,0.20278062720010137,0.2121412521904295,0.2121412521904295,0.2121412521904295,0.2121412521904295])                    |\n",
            "|(42876,[59,87,188,968,1641,1743,2218,3727,5345,6603,16569,21188],[0.18725846900639706,0.18839173423390326,0.20993759442135557,0.25967783953996904,0.27615743171678453,0.282880320181614,0.2866946086322386,0.30680227385932374,0.32715877222562206,0.32715877222562206,0.36828323703862165,0.36828323703862165])                                                                                                                                                                                                                                                                                                                                                                                                                                                                                                                                                                                                                                                                                              |\n",
            "|(42876,[504,4121,18870,40568],[0.36439849078823944,0.4683796966031141,0.5561559265308356,0.5818288280120331])                                                                                                                                                                                                                                                                                                                                                                                                                                                                                                                                                                                                                                                                                                                                                                                                                                                                                                 |\n",
            "|(42876,[3,19,20,21,31,33,41,43,66,72,127,130,354,385,423,610,672,690,805,906,1109,1395,1749,1973,2232,2318,2675,4773,5086,5263,6554,8801,11787,19150,25711,25752,29282,30153,31305,36924],[0.08271381751039412,0.091403930872123,0.09134794299369413,0.09162920442224938,0.09678845485187655,0.09764646880405571,0.09938250270132444,0.1003409786274742,0.10550694157384029,0.10571016679377694,0.11449100033761002,0.11493734640246582,0.13046009744903514,0.13163953812385853,0.13352568811746068,0.13985614816088066,0.14162575902999608,0.1420894399915918,0.14455335771402633,0.14672565635905851,0.15040659257382918,0.1547602160666888,0.1600886205865096,0.1621663495269016,0.16444224407936925,0.16444224407936925,0.16832300421513052,0.18099378029022753,0.18099378029022753,0.18350966499554575,0.18632218481004834,0.1931916930082262,0.20287372102090662,0.20974322921908448,0.2194252572317649,0.2194252572317649,0.2194252572317649,0.2194252572317649,0.2194252572317649,0.2194252572317649])|\n",
            "|(42876,[49,277,357,379,1865,4195,7741,11064,11696,13257,14205,20578],[0.1682871608004632,0.21164452467346156,0.2174896537049129,0.2184704488743744,0.26629247282279717,0.29382440788762426,0.32135634295245136,0.32859818913368277,0.3374614925376651,0.3374614925376651,0.3374614925376651,0.34888827801727845])                                                                                                                                                                                                                                                                                                                                                                                                                                                                                                                                                                                                                                                                                             |\n",
            "|(42876,[40,105,149,176,862,1036,1882,20449,27988,36511],[0.3745255638835696,0.20446067776647855,0.21705563907765796,0.22052646123960012,0.27020085932081606,0.2790924194831691,0.2970582584621779,0.389196672241831,0.40716251122083985,0.40716251122083985])                                                                                                                                                                                                                                                                                                                                                                                                                                                                                                                                                                                                                                                                                                                                                 |\n",
            "|(42876,[36,181,4692,14278,18176],[0.25876597359739545,0.31634990601156837,0.4810647383558795,0.5392195984066952,0.5574781162336111])                                                                                                                                                                                                                                                                                                                                                                                                                                                                                                                                                                                                                                                                                                                                                                                                                                                                          |\n",
            "|(42876,[38,283,304,518,986,1321,3168,3183,10233],[0.21878327975797962,0.2795576697568202,0.28289185101773023,0.30371919333845665,0.32955444018948926,0.3402991002561157,0.3786094458170403,0.3786094458170403,0.43658722656140025])                                                                                                                                                                                                                                                                                                                                                                                                                                                                                                                                                                                                                                                                                                                                                                           |\n",
            "|(42876,[6,73,81,928,1270,2347,2483,3674,13696,27730],[0.17318204764107661,0.2114257906538295,0.21350459298535238,0.2948938251948968,0.3067416133775396,0.3292100996413955,0.331662171516296,0.34980364281990267,0.40614915155060516,0.4392849976082937])                                                                                                                                                                                                                                                                                                                                                                                                                                                                                                                                                                                                                                                                                                                                                      |\n",
            "|(42876,[1009,1597,2734,17339],[0.4363363935815787,0.4542336094975714,0.4861384876075343,0.6057654253138657])                                                                                                                                                                                                                                                                                                                                                                                                                                                                                                                                                                                                                                                                                                                                                                                                                                                                                                  |\n",
            "|(42876,[7,21,22,81,186,359,382,484,489,637,1011,1041,1398,1689,2613,2650,2962,5974,6117,6982,9658,13717,14497,16997],[0.113530771275172,0.11923272840460583,0.11945441095559597,0.13877429604998373,0.15581954160678987,0.17051942410994242,0.17090542127789407,0.17688287237187802,0.1773572689520364,0.18311818695766827,0.1940369529696664,0.1940369529696664,0.2013821131206613,0.2058285958297416,0.21725467715064067,0.2190307246731554,0.22091447550084578,0.24245220284609234,0.24245220284609234,0.24660134000921943,0.2570563306588802,0.2639899301913388,0.2639899301913388,0.27292889468885956])                                                                                                                                                                                                                                                                                                                                                                                                  |\n",
            "|(42876,[20,51,72,80,151,225,240,409,799,815,915,987,1122,1171,1177,1533,2810,5088,5941,10211,12479,13271,20540,25274,33782,38388,38930,42014],[0.10314880787655463,0.11481776194866573,0.1193664282726383,0.120544066333387,0.13171870356568355,0.13875658263180443,0.13996591650625267,0.14968939200447237,0.16264772593261786,0.16322761119847295,0.16633029752590447,0.16699609988710704,0.17059659036492475,0.17301285906187577,0.17137819945651128,0.1766133495396935,0.1917026201306446,0.20437562202464468,0.21039238119941342,0.2230653830934135,0.22908214226818224,0.22908214226818224,0.23683909396428315,0.24777190333695107,0.24777190333695107,0.24777190333695107,0.24777190333695107,0.24777190333695107])                                                                                                                                                                                                                                                                                    |\n",
            "|(42876,[30,88,301,484,696,1338,1364,1841,2273,3168,3299,4738,5795,5943,31939],[0.1550448925646274,0.1731995874568796,0.2088246437014739,0.2185370828578638,0.22997083292884465,0.24754686979655374,0.2501071260848546,0.25737205386940354,0.2643713085074049,0.27541531293170646,0.27806392280667486,0.29098096292053927,0.2995473582713707,0.2995473582713707,0.3527666670976393])                                                                                                                                                                                                                                                                                                                                                                                                                                                                                                                                                                                                                           |\n",
            "|(42876,[0,2,36,37,97,171,189,286,752,883,910,1532,2124,2184,3647,3853,8969,10680,10801,16335,20800,30777,32204,41271,42086],[0.07876360581662015,0.09843660865113231,0.11769749041802216,0.11813555251211046,0.13276446473641967,0.14283150512411166,0.14432315918870647,0.15292096589611645,0.17293055713038444,0.17670126633964583,0.17738053857492583,0.19013525072692972,0.1960472021840479,0.19739012980919382,0.21123431986309713,0.21123431986309713,0.2335545630148087,0.23881777395609147,0.23881777395609147,0.2535641542490767,0.2535641542490767,0.26526901477588216,0.26526901477588216,0.26526901477588216,0.26526901477588216])                                                                                                                                                                                                                                                                                                                                                                |\n",
            "|(42876,[30,31,45,81,136,191,353,418,854,983,1294,1631,1903,2036,2291,2662,3538,3594,3683,6349,6874,6956,7913,7968,11073,27384,29244,29355,40622],[0.1074890454258997,0.10787758714426161,0.11266745972280806,0.11886531187310743,0.1291295780418234,0.1330588562662417,0.14540701732397052,0.14810447696733678,0.16229802136047106,0.16483466700990018,0.1707735511857715,0.17529535204076988,0.1784301045466167,0.18074588058800833,0.18328252623743746,0.1876079082302821,0.19277529969206805,0.19474765632320332,0.19474765632320332,0.20766926964084606,0.21122315891960533,0.21122315891960533,0.21532582300169129,0.21532582300169129,0.22017824469251204,0.24456498809592062,0.24456498809592062,0.24456498809592062,0.24456498809592062])                                                                                                                                                                                                                                                             |\n",
            "+--------------------------------------------------------------------------------------------------------------------------------------------------------------------------------------------------------------------------------------------------------------------------------------------------------------------------------------------------------------------------------------------------------------------------------------------------------------------------------------------------------------------------------------------------------------------------------------------------------------------------------------------------------------------------------------------------------------------------------------------------------------------------------------------------------------------------------------------------------------------------------------------------------------------------------------------------------------------------------------------------------------+\n",
            "only showing top 20 rows\n",
            "\n"
          ]
        }
      ]
    },
    {
      "cell_type": "markdown",
      "source": [
        "Stage 3: machine learning"
      ],
      "metadata": {
        "id": "sbDkRMpoNbVT"
      }
    },
    {
      "cell_type": "code",
      "source": [
        "from pyspark.ml.classification import LogisticRegression\n",
        "from pyspark.ml.evaluation import MulticlassClassificationEvaluator\n",
        "\n",
        "## encoding authors\n",
        "processed_data = processed_data.withColumn(\n",
        "    \"author\",\n",
        "    F.when(F.col(\"author\") == \"EAP\", 0)\n",
        "    .when(F.col(\"author\") == \"HPL\", 1)\n",
        "    .when(F.col(\"author\") == \"MWS\", 2)\n",
        "    .otherwise(None)\n",
        ")\n",
        "\n",
        "ml_df = processed_data.filter(F.col(\"author\").isNotNull())\n",
        "\n",
        "train_data, test_data = ml_df.randomSplit([0.8, 0.2], seed=42)\n",
        "\n",
        "## grabbing normalized_features and author only for test data\n",
        "test_data = test_data.select(\"normalized_features\", \"author\")\n",
        "\n",
        "train_data.show(5)"
      ],
      "metadata": {
        "colab": {
          "base_uri": "https://localhost:8080/"
        },
        "id": "59Bb3JDjNjRJ",
        "outputId": "e04cd6a8-a9df-4fee-dc82-2bd9209b175a"
      },
      "execution_count": 33,
      "outputs": [
        {
          "output_type": "stream",
          "name": "stdout",
          "text": [
            "+-------+--------------------+------+--------------------+--------------------+--------------------+--------------------+--------------------+\n",
            "|     id|                text|author|              tokens|     filtered_tokens|   vectorized_tokens|               tfidf| normalized_features|\n",
            "+-------+--------------------+------+--------------------+--------------------+--------------------+--------------------+--------------------+\n",
            "|id00001|Idris was well co...|     2|[idris, was, well...|[idris, well, con...|(42876,[30,565,15...|(42876,[30,565,15...|(42876,[30,565,15...|\n",
            "|id00002|I was faint, even...|     1|[i, was, faint,, ...|[faint,, even, fa...|(42876,[2,12,49,1...|(42876,[2,12,49,1...|(42876,[2,12,49,1...|\n",
            "|id00004|He might see, per...|     0|[he, might, see,,...|[might, see,, per...|(42876,[0,4,26,19...|(42876,[0,4,26,19...|(42876,[0,4,26,19...|\n",
            "|id00005|All obeyed the Lo...|     2|[all, obeyed, the...|[obeyed, lord, pr...|(42876,[85,154,61...|(42876,[85,154,61...|(42876,[85,154,61...|\n",
            "|id00006|It was difficult,...|     0|[it, was, difficu...|[difficult,, give...|(42876,[0,1,26,72...|(42876,[0,1,26,72...|(42876,[0,1,26,72...|\n",
            "+-------+--------------------+------+--------------------+--------------------+--------------------+--------------------+--------------------+\n",
            "only showing top 5 rows\n",
            "\n"
          ]
        }
      ]
    },
    {
      "cell_type": "code",
      "source": [
        "from pyspark.ml.classification import LogisticRegression\n",
        "from pyspark.ml.evaluation import MulticlassClassificationEvaluator\n",
        "\n",
        "## encoding authors\n",
        "# Initialize LogisticRegression model\n",
        "lr = LogisticRegression(featuresCol=\"normalized_features\", labelCol=\"author\")\n",
        "\n",
        "# Train the model\n",
        "lr_model = lr.fit(train_data)\n",
        "predictions = lr_model.transform(test_data)\n",
        "\n",
        "# Evaluate accuracy\n",
        "evaluator = MulticlassClassificationEvaluator(labelCol=\"author\", predictionCol=\"prediction\", metricName=\"accuracy\")\n",
        "accuracy = evaluator.evaluate(predictions)\n",
        "print(f\"Accuracy: {accuracy}\")"
      ],
      "metadata": {
        "colab": {
          "base_uri": "https://localhost:8080/"
        },
        "id": "p0MWz-8uN-J_",
        "outputId": "4f38820a-e7c5-409c-8699-86281ea80928"
      },
      "execution_count": 34,
      "outputs": [
        {
          "output_type": "stream",
          "name": "stdout",
          "text": [
            "Accuracy: 0.7367680180180181\n"
          ]
        }
      ]
    },
    {
      "cell_type": "markdown",
      "source": [
        "Part 2: Achieving 80% accuracy"
      ],
      "metadata": {
        "id": "IXKOsvux7ihF"
      }
    },
    {
      "cell_type": "code",
      "source": [
        "from pyspark.ml.classification import NaiveBayes\n",
        "\n",
        "# Initialize NaiveBayes\n",
        "nb = NaiveBayes(featuresCol=\"normalized_features\", labelCol=\"author\")\n",
        "\n",
        "# Train the Naive Bayes model\n",
        "nb_model = nb.fit(train_data)\n",
        "\n",
        "# Make predictions\n",
        "nb_predictions = nb_model.transform(test_data)\n",
        "\n",
        "# Evaluate accuracy\n",
        "nb_accuracy = evaluator.evaluate(nb_predictions)\n",
        "print(f\"Naive Bayes Accuracy: {nb_accuracy:.2f}\")\n"
      ],
      "metadata": {
        "colab": {
          "base_uri": "https://localhost:8080/"
        },
        "id": "5HYcwHl39aLy",
        "outputId": "999a3b18-d998-40f6-a5af-e566b7fc6d35"
      },
      "execution_count": 37,
      "outputs": [
        {
          "output_type": "stream",
          "name": "stdout",
          "text": [
            "Naive Bayes Accuracy: 0.80\n"
          ]
        }
      ]
    },
    {
      "cell_type": "code",
      "source": [
        "## Confusion Matrix\n",
        "## Shows prediction distribution\n",
        "## For example, our model prediction of correctly 0 - 0 or EAP - EAP makes up 28% of all predictions\n",
        "## Our True positives add up to the above accuracy score of ~74% which is well above the 50% threshold\n",
        "\n",
        "\n",
        "confusion_matrix = predictions.groupBy(\"author\", \"prediction\").count().orderBy(\"author\", \"prediction\")\n",
        "total_predictions = predictions.count()\n",
        "\n",
        "confusion_matrix = confusion_matrix.withColumn(\n",
        "    \"percentage\",\n",
        "    (F.col(\"count\") / total_predictions) * 100\n",
        ")\n",
        "\n",
        "confusion_matrix = confusion_matrix.orderBy(\"author\", \"prediction\")\n",
        "confusion_matrix.show()"
      ],
      "metadata": {
        "colab": {
          "base_uri": "https://localhost:8080/"
        },
        "id": "AqqcMmB4QEPz",
        "outputId": "f8c447fa-2310-43e4-a52a-28adf4b95f5e"
      },
      "execution_count": 38,
      "outputs": [
        {
          "output_type": "stream",
          "name": "stdout",
          "text": [
            "+------+----------+-----+------------------+\n",
            "|author|prediction|count|        percentage|\n",
            "+------+----------+-----+------------------+\n",
            "|     0|       0.0| 1025| 28.85698198198198|\n",
            "|     0|       1.0|  150| 4.222972972972973|\n",
            "|     0|       2.0|  207| 5.827702702702703|\n",
            "|     1|       0.0|  177| 4.983108108108108|\n",
            "|     1|       1.0|  786| 22.12837837837838|\n",
            "|     1|       2.0|  121|3.4065315315315314|\n",
            "|     2|       0.0|  187| 5.264639639639639|\n",
            "|     2|       1.0|   93|2.6182432432432434|\n",
            "|     2|       2.0|  806|22.691441441441444|\n",
            "+------+----------+-----+------------------+\n",
            "\n"
          ]
        }
      ]
    },
    {
      "cell_type": "code",
      "source": [
        "import numpy as np\n",
        "import matplotlib.pyplot as plt\n",
        "\n",
        "\n",
        "#Extract the coefficient matrix\n",
        "feature_importance_matrix = lr_model.coefficientMatrix.toArray()\n",
        "\n",
        "#Take the average absolute value across all classes to get a general sense of feature importance.\n",
        "feature_importance = np.mean(np.abs(feature_importance_matrix), axis=0)\n",
        "\n",
        "#Sort the feature importances by absolute value\n",
        "sorted_indices = np.argsort(feature_importance)[::-1]\n",
        "sorted_importance = feature_importance[sorted_indices]\n",
        "\n",
        "#Plot sorted feature importances\n",
        "plt.figure(figsize=(12, 8))\n",
        "plt.bar(np.arange(len(sorted_importance)), sorted_importance)\n",
        "plt.xlabel(\"Sorted Feature Index\")\n",
        "plt.ylabel(\"Average Absolute Coefficient Value\")\n",
        "plt.title(\"Feature Importance for Logistic Regression Model\")\n",
        "plt.show()"
      ],
      "metadata": {
        "colab": {
          "base_uri": "https://localhost:8080/",
          "height": 621
        },
        "id": "00xttNWAQgM7",
        "outputId": "988bb1fe-6484-4cd2-914b-7a8fdd21bd8f"
      },
      "execution_count": 39,
      "outputs": [
        {
          "output_type": "display_data",
          "data": {
            "text/plain": [
              "<Figure size 1200x800 with 1 Axes>"
            ],
            "image/png": "[encoded data removed]"
          },
          "metadata": {}
        }
      ]
    },
    {
      "cell_type": "markdown",
      "source": [
        "# Part 2  : 80% accuracy with the Naive Bayes classifier"
      ],
      "metadata": {
        "id": "LLquFuSed6nv"
      }
    },
    {
      "cell_type": "code",
      "source": [
        "from pyspark.ml.classification import NaiveBayes\n",
        "\n",
        "# Initialize NaiveBayes\n",
        "nb = NaiveBayes(featuresCol=\"normalized_features\", labelCol=\"author\")\n",
        "\n",
        "# Train the Naive Bayes model\n",
        "nb_model = nb.fit(train_data)\n",
        "\n",
        "# Make predictions\n",
        "nb_predictions = nb_model.transform(test_data)\n",
        "\n",
        "# Evaluate accuracy\n",
        "nb_accuracy = evaluator.evaluate(nb_predictions)\n",
        "print(f\"Naive Bayes Accuracy: {nb_accuracy:.2f}\")\n"
      ],
      "metadata": {
        "colab": {
          "base_uri": "https://localhost:8080/"
        },
        "id": "BewhzQ0J6FRm",
        "outputId": "93e93110-10c4-42cc-a2c0-b85fdafdbdeb"
      },
      "execution_count": 40,
      "outputs": [
        {
          "output_type": "stream",
          "name": "stdout",
          "text": [
            "Naive Bayes Accuracy: 0.80\n"
          ]
        }
      ]
    }
  ]
}