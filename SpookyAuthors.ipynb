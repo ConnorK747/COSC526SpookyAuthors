{
 "cells": [
  {
   "cell_type": "code",
   "execution_count": 4,
   "metadata": {},
   "outputs": [],
   "source": [
    "#Imports\n",
    "from pyspark.sql import SparkSession\n",
    "from pyspark.sql import functions as F\n",
    "from pyspark.ml.feature import Tokenizer\n",
    "from pyspark.ml.feature import StopWordsRemover\n",
    "\n",
    "#Create a spark session\n",
    "spark = SparkSession.builder.appName(\"SpookyAuthorIdentification\").getOrCreate()"
   ]
  },
  {
   "cell_type": "markdown",
   "metadata": {},
   "source": [
    "Stage 0: Import Data"
   ]
  },
  {
   "cell_type": "code",
   "execution_count": 5,
   "metadata": {},
   "outputs": [
    {
     "name": "stdout",
     "output_type": "stream",
     "text": [
      "root\n",
      " |-- id: string (nullable = true)\n",
      " |-- text: string (nullable = true)\n",
      " |-- author: string (nullable = true)\n",
      "\n",
      "+-------+--------------------+------+\n",
      "|     id|                text|author|\n",
      "+-------+--------------------+------+\n",
      "|id26305|This process, how...|   EAP|\n",
      "|id17569|It never once occ...|   HPL|\n",
      "|id11008|In his left hand ...|   EAP|\n",
      "|id27763|How lovely is spr...|   MWS|\n",
      "|id12958|Finding nothing e...|   HPL|\n",
      "+-------+--------------------+------+\n",
      "only showing top 5 rows\n",
      "\n"
     ]
    }
   ],
   "source": [
    "#Load training data into a data frame\n",
    "train_df = spark.read.csv('Datasets/train.csv', header=True, inferSchema=True)\n",
    "\n",
    "#Verify\n",
    "train_df.printSchema()\n",
    "train_df.show(5)\n"
   ]
  },
  {
   "cell_type": "code",
   "execution_count": 6,
   "metadata": {},
   "outputs": [
    {
     "name": "stdout",
     "output_type": "stream",
     "text": [
      "root\n",
      " |-- id: string (nullable = true)\n",
      " |-- text: string (nullable = true)\n",
      "\n",
      "+-------+--------------------+\n",
      "|     id|                text|\n",
      "+-------+--------------------+\n",
      "|id02310|Still, as I urged...|\n",
      "|id24541|If a fire wanted ...|\n",
      "|id00134|And when they had...|\n",
      "|id27757|While I was think...|\n",
      "|id04081|I am not sure to ...|\n",
      "+-------+--------------------+\n",
      "only showing top 5 rows\n",
      "\n"
     ]
    }
   ],
   "source": [
    "#Load test data into a data frame\n",
    "test_df = spark.read.csv('Datasets/test.csv', header=True, inferSchema=True)\n",
    "\n",
    "#Verify\n",
    "test_df.printSchema()\n",
    "test_df.show(5)"
   ]
  },
  {
   "cell_type": "code",
   "execution_count": 7,
   "metadata": {},
   "outputs": [
    {
     "name": "stdout",
     "output_type": "stream",
     "text": [
      "Training Data - Rows: 19579, Columns: 3\n"
     ]
    }
   ],
   "source": [
    "#Print num rows and cols in the training set\n",
    "train_row_count = train_df.count()\n",
    "train_column_count = len(train_df.columns)\n",
    "print(f\"Training Data - Rows: {train_row_count}, Columns: {train_column_count}\")"
   ]
  },
  {
   "cell_type": "code",
   "execution_count": 8,
   "metadata": {},
   "outputs": [
    {
     "name": "stdout",
     "output_type": "stream",
     "text": [
      "Test Data - Rows: 8392, Columns: 2\n"
     ]
    }
   ],
   "source": [
    "#Print num rows and cols in the test set\n",
    "test_row_count = test_df.count()\n",
    "test_column_count = len(test_df.columns)\n",
    "print(f\"Test Data - Rows: {test_row_count}, Columns: {test_column_count}\")"
   ]
  },
  {
   "cell_type": "code",
   "execution_count": 9,
   "metadata": {},
   "outputs": [
    {
     "name": "stdout",
     "output_type": "stream",
     "text": [
      "+---+----+------+\n",
      "| id|text|author|\n",
      "+---+----+------+\n",
      "|  0|   0|     0|\n",
      "+---+----+------+\n",
      "\n",
      "+---+----+\n",
      "| id|text|\n",
      "+---+----+\n",
      "|  0|   0|\n",
      "+---+----+\n",
      "\n"
     ]
    }
   ],
   "source": [
    "#Check for missing values (There are none)\n",
    "train_df.select([F.count(F.when(F.col(c).isNull(), c)).alias(c) for c in train_df.columns]).show()\n",
    "test_df.select([F.count(F.when(F.col(c).isNull(), c)).alias(c) for c in test_df.columns]).show()"
   ]
  },
  {
   "cell_type": "markdown",
   "metadata": {},
   "source": [
    "Stage 1: Data Preparation - Exploratory data anlysis and text mining pre-processing"
   ]
  },
  {
   "cell_type": "code",
   "execution_count": 10,
   "metadata": {},
   "outputs": [
    {
     "name": "stdout",
     "output_type": "stream",
     "text": [
      "+-------+------------------+\n",
      "|summary|   sentence_length|\n",
      "+-------+------------------+\n",
      "|  count|             19579|\n",
      "|   mean|139.99765054395016|\n",
      "| stddev|101.25452331007808|\n",
      "|    min|                 5|\n",
      "|    max|              3682|\n",
      "+-------+------------------+\n",
      "\n"
     ]
    }
   ],
   "source": [
    "#Create sentence length column\n",
    "train_df = train_df.withColumn(\"sentence_length\", F.length(F.col(\"text\")))\n",
    "train_df.select(\"sentence_length\").describe().show()"
   ]
  },
  {
   "cell_type": "code",
   "execution_count": 11,
   "metadata": {},
   "outputs": [
    {
     "name": "stdout",
     "output_type": "stream",
     "text": [
      "+---------------------------------------------------------------------------------------------------------------------------------------------------------------------------------------------------------------------------------------+---------------------------------------------------------------------------------------------------------------------------------------------------------------------------------------------------------------------------------------------------------------------------------+\n",
      "|text                                                                                                                                                                                                                                   |words                                                                                                                                                                                                                                                                            |\n",
      "+---------------------------------------------------------------------------------------------------------------------------------------------------------------------------------------------------------------------------------------+---------------------------------------------------------------------------------------------------------------------------------------------------------------------------------------------------------------------------------------------------------------------------------+\n",
      "|This process, however, afforded me no means of ascertaining the dimensions of my dungeon; as I might make its circuit, and return to the point whence I set out, without being aware of the fact; so perfectly uniform seemed the wall.|[this, process,, however,, afforded, me, no, means, of, ascertaining, the, dimensions, of, my, dungeon;, as, i, might, make, its, circuit,, and, return, to, the, point, whence, i, set, out,, without, being, aware, of, the, fact;, so, perfectly, uniform, seemed, the, wall.]|\n",
      "|It never once occurred to me that the fumbling might be a mere mistake.                                                                                                                                                                |[it, never, once, occurred, to, me, that, the, fumbling, might, be, a, mere, mistake.]                                                                                                                                                                                           |\n",
      "|In his left hand was a gold snuff box, from which, as he capered down the hill, cutting all manner of fantastic steps, he took snuff incessantly with an air of the greatest possible self satisfaction.                               |[in, his, left, hand, was, a, gold, snuff, box,, from, which,, as, he, capered, down, the, hill,, cutting, all, manner, of, fantastic, steps,, he, took, snuff, incessantly, with, an, air, of, the, greatest, possible, self, satisfaction.]                                    |\n",
      "|How lovely is spring As we looked from Windsor Terrace on the sixteen fertile counties spread beneath, speckled by happy cottages and wealthier towns, all looked as in former years, heart cheering and fair.                         |[how, lovely, is, spring, as, we, looked, from, windsor, terrace, on, the, sixteen, fertile, counties, spread, beneath,, speckled, by, happy, cottages, and, wealthier, towns,, all, looked, as, in, former, years,, heart, cheering, and, fair.]                                |\n",
      "|Finding nothing else, not even gold, the Superintendent abandoned his attempts; but a perplexed look occasionally steals over his countenance as he sits thinking at his desk.                                                         |[finding, nothing, else,, not, even, gold,, the, superintendent, abandoned, his, attempts;, but, a, perplexed, look, occasionally, steals, over, his, countenance, as, he, sits, thinking, at, his, desk.]                                                                       |\n",
      "+---------------------------------------------------------------------------------------------------------------------------------------------------------------------------------------------------------------------------------------+---------------------------------------------------------------------------------------------------------------------------------------------------------------------------------------------------------------------------------------------------------------------------------+\n",
      "only showing top 5 rows\n",
      "\n"
     ]
    }
   ],
   "source": [
    "#Use tokenizer to tokenize the text\n",
    "tokenizer = Tokenizer(inputCol=\"text\", outputCol=\"words\")\n",
    "tokenized_train_df = tokenizer.transform(train_df)\n",
    "\n",
    "#Print tokenized output\n",
    "tokenized_train_df.select(\"text\", \"words\").show(5, truncate=False)"
   ]
  },
  {
   "cell_type": "code",
   "execution_count": 12,
   "metadata": {},
   "outputs": [
    {
     "name": "stdout",
     "output_type": "stream",
     "text": [
      "+---------------------------------------------------------------------------------------------------------------------------------------------------------------------------------------------------------------------------------------------------------------------------------+--------------------------------------------------------------------------------------------------------------------------------------------------------------------------------------------+\n",
      "|words                                                                                                                                                                                                                                                                            |filtered_words                                                                                                                                                                              |\n",
      "+---------------------------------------------------------------------------------------------------------------------------------------------------------------------------------------------------------------------------------------------------------------------------------+--------------------------------------------------------------------------------------------------------------------------------------------------------------------------------------------+\n",
      "|[this, process,, however,, afforded, me, no, means, of, ascertaining, the, dimensions, of, my, dungeon;, as, i, might, make, its, circuit,, and, return, to, the, point, whence, i, set, out,, without, being, aware, of, the, fact;, so, perfectly, uniform, seemed, the, wall.]|[process,, however,, afforded, means, ascertaining, dimensions, dungeon;, might, make, circuit,, return, point, whence, set, out,, without, aware, fact;, perfectly, uniform, seemed, wall.]|\n",
      "|[it, never, once, occurred, to, me, that, the, fumbling, might, be, a, mere, mistake.]                                                                                                                                                                                           |[never, occurred, fumbling, might, mere, mistake.]                                                                                                                                          |\n",
      "|[in, his, left, hand, was, a, gold, snuff, box,, from, which,, as, he, capered, down, the, hill,, cutting, all, manner, of, fantastic, steps,, he, took, snuff, incessantly, with, an, air, of, the, greatest, possible, self, satisfaction.]                                    |[left, hand, gold, snuff, box,, which,, capered, hill,, cutting, manner, fantastic, steps,, took, snuff, incessantly, air, greatest, possible, self, satisfaction.]                         |\n",
      "|[how, lovely, is, spring, as, we, looked, from, windsor, terrace, on, the, sixteen, fertile, counties, spread, beneath,, speckled, by, happy, cottages, and, wealthier, towns,, all, looked, as, in, former, years,, heart, cheering, and, fair.]                                |[lovely, spring, looked, windsor, terrace, sixteen, fertile, counties, spread, beneath,, speckled, happy, cottages, wealthier, towns,, looked, former, years,, heart, cheering, fair.]      |\n",
      "|[finding, nothing, else,, not, even, gold,, the, superintendent, abandoned, his, attempts;, but, a, perplexed, look, occasionally, steals, over, his, countenance, as, he, sits, thinking, at, his, desk.]                                                                       |[finding, nothing, else,, even, gold,, superintendent, abandoned, attempts;, perplexed, look, occasionally, steals, countenance, sits, thinking, desk.]                                     |\n",
      "+---------------------------------------------------------------------------------------------------------------------------------------------------------------------------------------------------------------------------------------------------------------------------------+--------------------------------------------------------------------------------------------------------------------------------------------------------------------------------------------+\n",
      "only showing top 5 rows\n",
      "\n"
     ]
    }
   ],
   "source": [
    "#Create an instance of StopWordsRemover and use it to filter the tokens and remove stop words\n",
    "#The new filtered tokens are placed in a new column \"filtered_words\"\n",
    "remover = StopWordsRemover(inputCol=\"words\", outputCol=\"filtered_words\")\n",
    "cleaned_train_df = remover.transform(tokenized_train_df)\n",
    "\n",
    "#Print the cleaned output\n",
    "cleaned_train_df.select(\"words\", \"filtered_words\").show(5, truncate=False)"
   ]
  },
  {
   "cell_type": "markdown",
   "metadata": {},
   "source": [
    "Stage 2: Feature Extraction"
   ]
  },
  {
   "cell_type": "code",
   "execution_count": 15,
   "metadata": {},
   "outputs": [],
   "source": [
    "#Set up Countvectorizer to count the occurences of each word in the cleaned data\n",
    "vectorizer = CountVectorizer(inputCol=\"filtered_words\", outputCol=\"raw_features\")\n",
    "vectorizer_model = vectorizer.fit(cleaned_train_df)\n",
    "\n",
    "#Transform the cleaned text into raw features\n",
    "raw_features_df = vectorizer_model.transform(cleaned_train_df)"
   ]
  },
  {
   "cell_type": "code",
   "execution_count": 18,
   "metadata": {},
   "outputs": [
    {
     "name": "stdout",
     "output_type": "stream",
     "text": [
      "+-------------------------------------------------------------------------------------------------------------------------------------------------------------------------------------------------------------------------------------------------------------------------------------------------------------------------------------------------------------------------------------------------------------------------------------------------------------------------------------------------------------------------+\n",
      "|tfidf_features                                                                                                                                                                                                                                                                                                                                                                                                                                                                                                           |\n",
      "+-------------------------------------------------------------------------------------------------------------------------------------------------------------------------------------------------------------------------------------------------------------------------------------------------------------------------------------------------------------------------------------------------------------------------------------------------------------------------------------------------------------------------+\n",
      "|(42876,[4,9,33,47,65,143,165,184,245,759,907,1203,1267,1817,2216,5223,6557,9058,12757,25219,27837,33477],[3.5796449403395965,3.6517824685060196,4.0892503077003575,4.229774735815851,4.3850956907912995,4.878317610139042,4.933504025706333,4.991914787862748,5.200132688960282,6.032116314374443,6.144594297801133,6.35590339146834,6.416528013284775,6.663388091216301,6.837741478361078,7.685039338748282,7.802822374404665,8.090504446856446,8.49596955496461,9.189116735524555,9.189116735524555,9.189116735524555])|\n",
      "|(42876,[4,10,228,711,6526,10218],[3.5796449403395965,3.702247262431929,5.137331787721251,5.990443617973875,7.802822374404665,8.272826003650401])                                                                                                                                                                                                                                                                                                                                                                         |\n",
      "|(42876,[48,87,136,138,171,255,257,328,535,827,1210,1640,2347,3030,3612,6136,8143,12592,28110],[4.272792120899542,4.493192186268001,4.851825994692066,4.871628621988245,4.947789982953809,5.218824821972434,5.218824821972434,5.463423308287903,5.75512953103941,6.193384461970565,6.385756354618021,6.5864270500801725,6.88653164253051,7.10967519384472,7.317314558622964,15.872707534058376,8.090504446856446,8.49596955496461,9.189116735524555])                                                                     |\n",
      "|(42876,[85,88,422,439,445,658,881,918,1145,2692,2886,5398,6933,7106,9074,9203,9225,10555,12713,15628],[9.004733125088084,4.511625887956838,5.648157411487242,5.619584039043186,5.633768674035142,5.911972002532379,6.121063800390939,6.168691849380194,6.326915854595088,7.049050572028285,7.10967519384472,7.685039338748282,7.936353767029188,7.936353767029188,8.090504446856446,8.272826003650401,8.272826003650401,8.272826003650401,8.49596955496461,8.783651627416392])                                           |\n",
      "|(42876,[2,67,145,397,865,1325,1600,1781,4259,5304,6273,7524,8518,16800,21091,31192],[3.4099176215836007,4.41420377494937,4.851825994692066,5.5515305757981706,6.09807428216624,6.448276711599355,6.663388091216301,6.663388091216301,7.397357266296501,7.685039338748282,7.802822374404665,7.936353767029188,8.090504446856446,8.783651627416392,8.783651627416392,9.189116735524555])                                                                                                                                   |\n",
      "+-------------------------------------------------------------------------------------------------------------------------------------------------------------------------------------------------------------------------------------------------------------------------------------------------------------------------------------------------------------------------------------------------------------------------------------------------------------------------------------------------------------------------+\n",
      "only showing top 5 rows\n",
      "\n"
     ]
    }
   ],
   "source": [
    "#Set up the IDF transformer\n",
    "idf = IDF(inputCol=\"raw_features\", outputCol=\"tfidf_features\")\n",
    "\n",
    "#Fit the IDF model and transform raw features\n",
    "idf_model = idf.fit(raw_features_df)\n",
    "tfidf_df = idf_model.transform(raw_features_df)\n",
    "\n",
    "tfidf_df.select(\"tfidf_features\").show(5, truncate=False)"
   ]
  }
 ],
 "metadata": {
  "kernelspec": {
   "display_name": "Python 3",
   "language": "python",
   "name": "python3"
  },
  "language_info": {
   "codemirror_mode": {
    "name": "ipython",
    "version": 3
   },
   "file_extension": ".py",
   "mimetype": "text/x-python",
   "name": "python",
   "nbconvert_exporter": "python",
   "pygments_lexer": "ipython3",
   "version": "3.12.5"
  }
 },
 "nbformat": 4,
 "nbformat_minor": 2
}
